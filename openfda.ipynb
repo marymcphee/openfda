{
 "cells": [
  {
   "cell_type": "code",
   "execution_count": 1,
   "metadata": {
    "collapsed": false
   },
   "outputs": [],
   "source": [
    "import urllib2\n",
    "import pandas as pd\n",
    "import requests\n",
    "from bokeh.embed import components \n",
    "from bokeh.plotting import figure\n",
    "import json\n",
    "from urllib2 import Request, urlopen\n",
    "from pandas.io.json import json_normalize\n",
    "from time import sleep\n",
    "import numpy as np"
   ]
  },
  {
   "cell_type": "code",
   "execution_count": 269,
   "metadata": {
    "collapsed": true
   },
   "outputs": [],
   "source": []
  },
  {
   "cell_type": "code",
   "execution_count": 267,
   "metadata": {
    "collapsed": false
   },
   "outputs": [],
   "source": []
  },
  {
   "cell_type": "code",
   "execution_count": 270,
   "metadata": {
    "collapsed": false
   },
   "outputs": [],
   "source": []
  },
  {
   "cell_type": "code",
   "execution_count": 281,
   "metadata": {
    "collapsed": false
   },
   "outputs": [
    {
     "data": {
      "text/plain": [
       "'http://download.open.fda.gov/device/510k/device-510k-0001-of-0001.json.zip'"
      ]
     },
     "execution_count": 281,
     "metadata": {},
     "output_type": "execute_result"
    }
   ],
   "source": []
  },
  {
   "cell_type": "code",
   "execution_count": 2,
   "metadata": {
    "collapsed": false
   },
   "outputs": [
    {
     "name": "stdout",
     "output_type": "stream",
     "text": [
      "/Users/taftmphee/Desktop\r\n"
     ]
    }
   ],
   "source": [
    "\n",
    "\n",
    "!pwd"
   ]
  },
  {
   "cell_type": "code",
   "execution_count": 3,
   "metadata": {
    "collapsed": false
   },
   "outputs": [
    {
     "ename": "NameError",
     "evalue": "name 'response' is not defined",
     "output_type": "error",
     "traceback": [
      "\u001b[0;31m---------------------------------------------------------------------------\u001b[0m",
      "\u001b[0;31mNameError\u001b[0m                                 Traceback (most recent call last)",
      "\u001b[0;32m<ipython-input-3-7f077f9205d5>\u001b[0m in \u001b[0;36m<module>\u001b[0;34m()\u001b[0m\n\u001b[0;32m----> 1\u001b[0;31m \u001b[0moutputjson\u001b[0m \u001b[0;34m=\u001b[0m \u001b[0mjson\u001b[0m\u001b[0;34m.\u001b[0m\u001b[0mload\u001b[0m\u001b[0;34m(\u001b[0m\u001b[0mresponse\u001b[0m\u001b[0;34m)\u001b[0m\u001b[0;34m\u001b[0m\u001b[0m\n\u001b[0m\u001b[1;32m      2\u001b[0m \u001b[0mtype\u001b[0m\u001b[0;34m(\u001b[0m\u001b[0moutputjson\u001b[0m\u001b[0;34m)\u001b[0m\u001b[0;34m\u001b[0m\u001b[0m\n",
      "\u001b[0;31mNameError\u001b[0m: name 'response' is not defined"
     ]
    }
   ],
   "source": [
    "outputjson = json.load(response)\n",
    "type(outputjson)"
   ]
  },
  {
   "cell_type": "code",
   "execution_count": 31,
   "metadata": {
    "collapsed": false
   },
   "outputs": [],
   "source": []
  },
  {
   "cell_type": "code",
   "execution_count": 4,
   "metadata": {
    "collapsed": false
   },
   "outputs": [],
   "source": [
    "#raw_data2.json()\n",
    "#returns this metadata:  u'results': {u'limit': 25, u'skip': 0, u'total': 5899773}}\n",
    "#getting the first 5000 records to explore \n",
    "urls = []\n",
    "iter = range(0, 5100, 100)\n",
    "for i, item in enumerate(iter):\n",
    "    if i == 0:\n",
    "        skip = iter[0]\n",
    "    else: \n",
    "        skip = iter[i-1]\n",
    "    url = 'https://api.fda.gov/device/event.json?api_key=a1lInp8iF29I0xq4d4FVawMdkArMywT3jYKOZeRx&limit=100&skip=%s' % (skip)\n",
    "    urls.append(url)"
   ]
  },
  {
   "cell_type": "code",
   "execution_count": 5,
   "metadata": {
    "collapsed": false
   },
   "outputs": [],
   "source": [
    "#manually dropping the first one\n",
    "del(urls[0])"
   ]
  },
  {
   "cell_type": "code",
   "execution_count": 65,
   "metadata": {
    "collapsed": false
   },
   "outputs": [],
   "source": [
    "#urls"
   ]
  },
  {
   "cell_type": "code",
   "execution_count": 6,
   "metadata": {
    "collapsed": false
   },
   "outputs": [],
   "source": [
    "responses = []"
   ]
  },
  {
   "cell_type": "code",
   "execution_count": 7,
   "metadata": {
    "collapsed": false
   },
   "outputs": [],
   "source": [
    "session = requests.Session()\n",
    "session.mount('http://', requests.adapters.HTTPAdapter(max_retries=3))\n",
    "for url in urls:\n",
    "    #print url\n",
    "    sleep(.25)\n",
    "    api_url = url\n",
    "    responses.append(session.get(api_url))\n"
   ]
  },
  {
   "cell_type": "code",
   "execution_count": 107,
   "metadata": {
    "collapsed": false
   },
   "outputs": [
    {
     "data": {
      "text/plain": [
       "[u'lot_number',\n",
       " u'manufacturer_d_country',\n",
       " u'brand_name',\n",
       " u'manufacturer_d_postal_code',\n",
       " u'date_received',\n",
       " u'baseline_510_k__exempt_flag',\n",
       " u'device_operator',\n",
       " u'generic_name',\n",
       " u'openfda',\n",
       " u'model_number',\n",
       " u'device_event_key',\n",
       " u'device_evaluated_by_manufacturer',\n",
       " u'manufacturer_d_zip_code',\n",
       " u'baseline_510_k__flag',\n",
       " u'expiration_date_of_device',\n",
       " u'device_sequence_number',\n",
       " u'device_age_text',\n",
       " u'manufacturer_d_zip_code_ext',\n",
       " u'baseline_510_k__number',\n",
       " u'manufacturer_d_state',\n",
       " u'catalog_number',\n",
       " u'implant_flag',\n",
       " u'manufacturer_d_address_2',\n",
       " u'other_id_number',\n",
       " u'manufacturer_d_address_1',\n",
       " u'manufacturer_d_city',\n",
       " u'manufacturer_d_name',\n",
       " u'device_availability',\n",
       " u'date_removed_flag',\n",
       " u'device_report_product_code']"
      ]
     },
     "execution_count": 107,
     "metadata": {},
     "output_type": "execute_result"
    }
   ],
   "source": [
    "pony['results'][0]['device'][0].keys()"
   ]
  },
  {
   "cell_type": "code",
   "execution_count": 161,
   "metadata": {
    "collapsed": false
   },
   "outputs": [
    {
     "data": {
      "text/plain": [
       "u''"
      ]
     },
     "execution_count": 161,
     "metadata": {},
     "output_type": "execute_result"
    }
   ],
   "source": [
    "#dicts[10][0]['adverse_event_flag'] == \"N\"\n",
    "pony['results'][0]['event_location']"
   ]
  },
  {
   "cell_type": "code",
   "execution_count": null,
   "metadata": {
    "collapsed": true
   },
   "outputs": [],
   "source": []
  },
  {
   "cell_type": "code",
   "execution_count": 99,
   "metadata": {
    "collapsed": false
   },
   "outputs": [
    {
     "data": {
      "text/plain": [
       "[u'manufacturer_contact_t_name',\n",
       " u'manufacturer_g1_name',\n",
       " u'number_patients_in_event',\n",
       " u'manufacturer_g1_city',\n",
       " u'event_type',\n",
       " u'manufacturer_city',\n",
       " u'report_number',\n",
       " u'product_problem_flag',\n",
       " u'manufacturer_country',\n",
       " u'manufacturer_g1_address_2',\n",
       " u'manufacturer_g1_address_1',\n",
       " u'device',\n",
       " u'device_date_of_manufacturer',\n",
       " u'manufacturer_contact_city',\n",
       " u'distributor_address_2',\n",
       " u'patient',\n",
       " u'single_use_flag',\n",
       " u'manufacturer_contact_plocal',\n",
       " u'event_location',\n",
       " u'manufacturer_contact_address_2',\n",
       " u'manufacturer_g1_state',\n",
       " u'manufacturer_contact_phone_number',\n",
       " u'manufacturer_name',\n",
       " u'manufacturer_zip_code_ext',\n",
       " u'date_of_event',\n",
       " u'manufacturer_contact_extension',\n",
       " u'report_source_code',\n",
       " u'distributor_state',\n",
       " u'remedial_action',\n",
       " u'number_devices_in_event',\n",
       " u'manufacturer_contact_zip_ext',\n",
       " u'date_received',\n",
       " u'manufacturer_g1_zip_code_ext',\n",
       " u'mdr_text',\n",
       " u'reprocessed_and_reused_flag',\n",
       " u'type_of_report',\n",
       " u'manufacturer_contact_l_name',\n",
       " u'manufacturer_contact_country',\n",
       " u'health_professional',\n",
       " u'manufacturer_contact_area_code',\n",
       " u'event_key',\n",
       " u'manufacturer_g1_zip_code',\n",
       " u'manufacturer_g1_country',\n",
       " u'manufacturer_contact_pcity',\n",
       " u'mdr_report_key',\n",
       " u'distributor_city',\n",
       " u'distributor_address_1',\n",
       " u'date_report',\n",
       " u'manufacturer_zip_code',\n",
       " u'source_type',\n",
       " u'manufacturer_g1_postal_code',\n",
       " u'previous_use_code',\n",
       " u'manufacturer_contact_f_name',\n",
       " u'manufacturer_address_1',\n",
       " u'manufacturer_contact_address_1',\n",
       " u'manufacturer_contact_state',\n",
       " u'manufacturer_address_2',\n",
       " u'manufacturer_state',\n",
       " u'distributor_name',\n",
       " u'reporter_occupation_code',\n",
       " u'manufacturer_contact_exchange',\n",
       " u'distributor_zip_code',\n",
       " u'date_manufacturer_received',\n",
       " u'report_to_manufacturer',\n",
       " u'manufacturer_contact_zip_code',\n",
       " u'manufacturer_link_flag',\n",
       " u'adverse_event_flag',\n",
       " u'report_to_fda',\n",
       " u'removal_correction_number',\n",
       " u'manufacturer_contact_postal_code',\n",
       " u'distributor_zip_code_ext',\n",
       " u'initial_report_to_fda',\n",
       " u'manufacturer_postal_code',\n",
       " u'manufacturer_contact_pcountry']"
      ]
     },
     "execution_count": 99,
     "metadata": {},
     "output_type": "execute_result"
    }
   ],
   "source": [
    "pony = responses[0].json()\n",
    "#returns this metadata: u'results': {u'limit': 100, u'skip': 0, u'total': 4619711}\n",
    "pony['results'][0].keys()\n",
    "#that is one adverse event--from it we want: \n",
    "'number_patients_in_event'\n",
    "'adverse_event_flag'\n",
    "'event_type'?\n",
    "'event_location'?\n",
    "##plot geographic and normalize for population by state?"
   ]
  },
  {
   "cell_type": "code",
   "execution_count": 27,
   "metadata": {
    "collapsed": true
   },
   "outputs": [],
   "source": [
    "dicts =[]"
   ]
  },
  {
   "cell_type": "code",
   "execution_count": 28,
   "metadata": {
    "collapsed": false
   },
   "outputs": [],
   "source": [
    "##dicts = [r.json()['results'] for r in responses ]\n",
    "#each dict here is one event\n",
    "for r in responses:\n",
    "    step=r.json()\n",
    "    for i in range(100):\n",
    "        dicts.append(step['results'][i])\n"
   ]
  },
  {
   "cell_type": "code",
   "execution_count": 9,
   "metadata": {
    "collapsed": true
   },
   "outputs": [],
   "source": [
    "#result = pd.concat(frames)\n",
    "#doesn't concat usefully here, try again\n",
    "adversedf = pd.DataFrame(columns=['num_people', 'generic_name', 'event_type', 'event_location', 'manufacturer'])"
   ]
  },
  {
   "cell_type": "code",
   "execution_count": 826,
   "metadata": {
    "collapsed": true
   },
   "outputs": [],
   "source": [
    "problemdf = pd.DataFrame(columns=['num_people', 'generic_name', 'event_type', 'event_location', 'manufacturer'])"
   ]
  },
  {
   "cell_type": "code",
   "execution_count": 10,
   "metadata": {
    "collapsed": false
   },
   "outputs": [],
   "source": [
    "def get_generic(dicts):\n",
    "    index = 0\n",
    "    for dict in dicts:\n",
    "            if dict[0]['adverse_event_flag'] == \"Y\":\n",
    "                adversedf.loc[index, 'num_people'] = 1\n",
    "                #if dict[0]['number_patients_in_event'] == \"\" or isnan(dict[0]['number_patients_in_event']):\n",
    "                #    adversedf.loc[index, 'num_people'] = 1\n",
    "                #else: \n",
    "                #    adversedf.loc[index, 'num_people'] = (dict[0]['number_patients_in_event'])\n",
    "                adversedf.loc[index, 'generic_name'] = str(dict[0]['device'][0]['generic_name'])\n",
    "                adversedf.loc[index, 'event_type'] = str(dict[0]['event_type'])\n",
    "                adversedf.loc[index, 'event_location'] = str(dict[0]['event_location'])\n",
    "                adversedf.loc[index, 'manufacturer'] = str(dict[0]['device'][0]['manufacturer_d_name'])\n",
    "                print \"adverse\"\n",
    "            index+=1\n",
    "           \n",
    "            #print dicts[0][0]['number_patients_in_event']"
   ]
  },
  {
   "cell_type": "code",
   "execution_count": 926,
   "metadata": {
    "collapsed": false
   },
   "outputs": [],
   "source": [
    "def get_problems(dicts):\n",
    "    index = 0\n",
    "    for dict in dicts:\n",
    "            if dict['product_problem_flag'] == \"Y\":\n",
    "                problemdf.loc[index, 'num_people'] = 1\n",
    "                #if dict[0]['number_patients_in_event'] == \"\" or isnan(dict[0]['number_patients_in_event']):\n",
    "                #    adversedf.loc[index, 'num_people'] = 1\n",
    "                #else: \n",
    "                #    adversedf.loc[index, 'num_people'] = (dict[0]['number_patients_in_event'])\n",
    "                problemdf.loc[index, 'generic_name'] = str(dict['device'][0]['generic_name']).encode('utf-8', 'ignore').strip()\n",
    "                problemdf.loc[index, 'event_type'] = str(dict['event_type'])\n",
    "                problemdf.loc[index, 'event_location'] = str(dict['event_location'])\n",
    "                problemdf.loc[index, 'manufacturer'] = str(dict['device'][0]['manufacturer_d_name'])\n",
    "            index+=1"
   ]
  },
  {
   "cell_type": "code",
   "execution_count": 999,
   "metadata": {
    "collapsed": false
   },
   "outputs": [],
   "source": [
    "#problemdf.describe()\n",
    "problemdf.head()\n",
    "problemdf.to_csv(\"problemsample.csv\")"
   ]
  },
  {
   "cell_type": "code",
   "execution_count": 927,
   "metadata": {
    "collapsed": false
   },
   "outputs": [],
   "source": [
    "get_problems(dicts)\n",
    "#problemdf.loc[0,'manufacturer']"
   ]
  },
  {
   "cell_type": "code",
   "execution_count": 598,
   "metadata": {
    "collapsed": true
   },
   "outputs": [],
   "source": [
    "#newproblemdf = pd.read_csv(\"problemsample.csv\")"
   ]
  },
  {
   "cell_type": "code",
   "execution_count": 963,
   "metadata": {
    "collapsed": false
   },
   "outputs": [
    {
     "data": {
      "text/html": [
       "<div>\n",
       "<table border=\"1\" class=\"dataframe\">\n",
       "  <thead>\n",
       "    <tr style=\"text-align: right;\">\n",
       "      <th></th>\n",
       "      <th>num_people</th>\n",
       "      <th>generic_name</th>\n",
       "      <th>event_type</th>\n",
       "      <th>event_location</th>\n",
       "      <th>manufacturer</th>\n",
       "    </tr>\n",
       "  </thead>\n",
       "  <tbody>\n",
       "    <tr>\n",
       "      <th>count</th>\n",
       "      <td>3551</td>\n",
       "      <td>3551</td>\n",
       "      <td>3551</td>\n",
       "      <td>3551</td>\n",
       "      <td>4587</td>\n",
       "    </tr>\n",
       "    <tr>\n",
       "      <th>unique</th>\n",
       "      <td>1</td>\n",
       "      <td>952</td>\n",
       "      <td>5</td>\n",
       "      <td>16</td>\n",
       "      <td>624</td>\n",
       "    </tr>\n",
       "    <tr>\n",
       "      <th>top</th>\n",
       "      <td>1</td>\n",
       "      <td></td>\n",
       "      <td>Malfunction</td>\n",
       "      <td></td>\n",
       "      <td>BAXTER HEALTHCARE</td>\n",
       "    </tr>\n",
       "    <tr>\n",
       "      <th>freq</th>\n",
       "      <td>3551</td>\n",
       "      <td>223</td>\n",
       "      <td>2919</td>\n",
       "      <td>2375</td>\n",
       "      <td>390</td>\n",
       "    </tr>\n",
       "  </tbody>\n",
       "</table>\n",
       "</div>"
      ],
      "text/plain": [
       "        num_people generic_name   event_type event_location       manufacturer\n",
       "count         3551         3551         3551           3551               4587\n",
       "unique           1          952            5             16                624\n",
       "top              1               Malfunction                 BAXTER HEALTHCARE\n",
       "freq          3551          223         2919           2375                390"
      ]
     },
     "execution_count": 963,
     "metadata": {},
     "output_type": "execute_result"
    }
   ],
   "source": [
    "problemdf.describe()"
   ]
  },
  {
   "cell_type": "code",
   "execution_count": 701,
   "metadata": {
    "collapsed": false
   },
   "outputs": [],
   "source": [
    "#sorted(newmfrnames)"
   ]
  },
  {
   "cell_type": "code",
   "execution_count": null,
   "metadata": {
    "collapsed": false
   },
   "outputs": [],
   "source": [
    "fuzz.token_set_ratio(\"VARIAN MEDICAL SYSTEMS\", \"AMERICAN MEDICAL SYSTEMS\")"
   ]
  },
  {
   "cell_type": "code",
   "execution_count": 990,
   "metadata": {
    "collapsed": false
   },
   "outputs": [],
   "source": [
    "newfrmnames = sorted(list(problemdf['manufacturer']))\n",
    "#newmfrnames"
   ]
  },
  {
   "cell_type": "code",
   "execution_count": 934,
   "metadata": {
    "collapsed": true
   },
   "outputs": [],
   "source": [
    "testset = sorted(list(problemdf['manufacturer']))"
   ]
  },
  {
   "cell_type": "code",
   "execution_count": 992,
   "metadata": {
    "collapsed": false
   },
   "outputs": [
    {
     "data": {
      "text/plain": [
       "415"
      ]
     },
     "execution_count": 992,
     "metadata": {},
     "output_type": "execute_result"
    }
   ],
   "source": [
    "#testset[2]\n",
    "len(set(newmfrnames))\n",
    "#newmfrnames[0]"
   ]
  },
  {
   "cell_type": "code",
   "execution_count": 942,
   "metadata": {
    "collapsed": false
   },
   "outputs": [
    {
     "data": {
      "text/plain": [
       "3551"
      ]
     },
     "execution_count": 942,
     "metadata": {},
     "output_type": "execute_result"
    }
   ],
   "source": [
    "'MEDTRONIC PUERTO RICO OPERATIONS CO.' in list(testset)\n",
    "len(testset)"
   ]
  },
  {
   "cell_type": "code",
   "execution_count": 932,
   "metadata": {
    "collapsed": false
   },
   "outputs": [
    {
     "data": {
      "text/html": [
       "<div>\n",
       "<table border=\"1\" class=\"dataframe\">\n",
       "  <thead>\n",
       "    <tr style=\"text-align: right;\">\n",
       "      <th></th>\n",
       "      <th>num_people</th>\n",
       "      <th>generic_name</th>\n",
       "      <th>event_type</th>\n",
       "      <th>event_location</th>\n",
       "      <th>manufacturer</th>\n",
       "    </tr>\n",
       "  </thead>\n",
       "  <tbody>\n",
       "    <tr>\n",
       "      <th>0</th>\n",
       "      <td>1</td>\n",
       "      <td>NEUROSTIMULATOR</td>\n",
       "      <td>Other</td>\n",
       "      <td></td>\n",
       "      <td>MEDTRONIC INC.</td>\n",
       "    </tr>\n",
       "    <tr>\n",
       "      <th>1</th>\n",
       "      <td>1</td>\n",
       "      <td>INSTRUMENT, ULTRASONIC SURGICAL</td>\n",
       "      <td>Malfunction</td>\n",
       "      <td></td>\n",
       "      <td>ETHICON ENDO-SURGERY, LLC.</td>\n",
       "    </tr>\n",
       "    <tr>\n",
       "      <th>3</th>\n",
       "      <td>1</td>\n",
       "      <td>INSULIN INFUSION PUMP / SENSOR AUGMENTED</td>\n",
       "      <td>Malfunction</td>\n",
       "      <td>I</td>\n",
       "      <td>MEDTRONIC PUERTO RICO OPERATIONS CO.</td>\n",
       "    </tr>\n",
       "    <tr>\n",
       "      <th>4</th>\n",
       "      <td>1</td>\n",
       "      <td>LEAD MODEL 302</td>\n",
       "      <td>Malfunction</td>\n",
       "      <td>OTHER</td>\n",
       "      <td>CYBERONICS INC</td>\n",
       "    </tr>\n",
       "    <tr>\n",
       "      <th>5</th>\n",
       "      <td>1</td>\n",
       "      <td>IMPLANTABLE PACEMAKER PULSE GENERATOR</td>\n",
       "      <td>Injury</td>\n",
       "      <td>HOSPITAL</td>\n",
       "      <td>ST JUDE MEDICAL CARDIAC RHYTHM MANAGEMENT DIVI...</td>\n",
       "    </tr>\n",
       "    <tr>\n",
       "      <th>6</th>\n",
       "      <td>1</td>\n",
       "      <td>RADIATION TREATMENT PLANNING SYSTEM - MUJ</td>\n",
       "      <td>Malfunction</td>\n",
       "      <td></td>\n",
       "      <td>IMPAC MEDICAL SYSTEMS, INC.</td>\n",
       "    </tr>\n",
       "    <tr>\n",
       "      <th>9</th>\n",
       "      <td>1</td>\n",
       "      <td>INSULIN INFUSION PUMP</td>\n",
       "      <td>Malfunction</td>\n",
       "      <td>I</td>\n",
       "      <td>ANIMAS CORPORATION</td>\n",
       "    </tr>\n",
       "    <tr>\n",
       "      <th>12</th>\n",
       "      <td>1</td>\n",
       "      <td>STIMULATOR, SPINAL-CORD, TOTALLY IMPLANTED FOR...</td>\n",
       "      <td>Malfunction</td>\n",
       "      <td>I</td>\n",
       "      <td>MEDTRONIC NEUROMODULATION</td>\n",
       "    </tr>\n",
       "    <tr>\n",
       "      <th>13</th>\n",
       "      <td>1</td>\n",
       "      <td>GLUCOSE MONITORING SYS/KIT</td>\n",
       "      <td>Malfunction</td>\n",
       "      <td></td>\n",
       "      <td>LIFESCAN EUROPE, A DIVISION OF CILAG GMBH INTL</td>\n",
       "    </tr>\n",
       "    <tr>\n",
       "      <th>16</th>\n",
       "      <td>1</td>\n",
       "      <td>BLOOD GLUCOSE MONITORING TEST STRIPS - LFR</td>\n",
       "      <td>Malfunction</td>\n",
       "      <td>OTHER</td>\n",
       "      <td>ROCHE DIAGNOSTICS</td>\n",
       "    </tr>\n",
       "  </tbody>\n",
       "</table>\n",
       "</div>"
      ],
      "text/plain": [
       "   num_people                                       generic_name   event_type  \\\n",
       "0           1                                    NEUROSTIMULATOR        Other   \n",
       "1           1                    INSTRUMENT, ULTRASONIC SURGICAL  Malfunction   \n",
       "3           1           INSULIN INFUSION PUMP / SENSOR AUGMENTED  Malfunction   \n",
       "4           1                                     LEAD MODEL 302  Malfunction   \n",
       "5           1              IMPLANTABLE PACEMAKER PULSE GENERATOR       Injury   \n",
       "6           1          RADIATION TREATMENT PLANNING SYSTEM - MUJ  Malfunction   \n",
       "9           1                              INSULIN INFUSION PUMP  Malfunction   \n",
       "12          1  STIMULATOR, SPINAL-CORD, TOTALLY IMPLANTED FOR...  Malfunction   \n",
       "13          1                         GLUCOSE MONITORING SYS/KIT  Malfunction   \n",
       "16          1         BLOOD GLUCOSE MONITORING TEST STRIPS - LFR  Malfunction   \n",
       "\n",
       "   event_location                                       manufacturer  \n",
       "0                                                     MEDTRONIC INC.  \n",
       "1                                         ETHICON ENDO-SURGERY, LLC.  \n",
       "3               I               MEDTRONIC PUERTO RICO OPERATIONS CO.  \n",
       "4           OTHER                                     CYBERONICS INC  \n",
       "5        HOSPITAL  ST JUDE MEDICAL CARDIAC RHYTHM MANAGEMENT DIVI...  \n",
       "6                                        IMPAC MEDICAL SYSTEMS, INC.  \n",
       "9               I                                 ANIMAS CORPORATION  \n",
       "12              I                          MEDTRONIC NEUROMODULATION  \n",
       "13                    LIFESCAN EUROPE, A DIVISION OF CILAG GMBH INTL  \n",
       "16          OTHER                                  ROCHE DIAGNOSTICS  "
      ]
     },
     "execution_count": 932,
     "metadata": {},
     "output_type": "execute_result"
    }
   ],
   "source": [
    "problemdf.head(10)"
   ]
  },
  {
   "cell_type": "code",
   "execution_count": 687,
   "metadata": {
    "collapsed": false
   },
   "outputs": [],
   "source": [
    "here = problemdf['manufacturer']=='MEDTRONIC PUERTO RICO OPERATIONS CO.'"
   ]
  },
  {
   "cell_type": "code",
   "execution_count": 799,
   "metadata": {
    "collapsed": false
   },
   "outputs": [
    {
     "data": {
      "text/plain": [
       "144"
      ]
     },
     "execution_count": 799,
     "metadata": {},
     "output_type": "execute_result"
    }
   ],
   "source": [
    "len(set(errs))\n",
    "#here"
   ]
  },
  {
   "cell_type": "code",
   "execution_count": 682,
   "metadata": {
    "collapsed": false
   },
   "outputs": [
    {
     "data": {
      "text/plain": [
       "False"
      ]
     },
     "execution_count": 682,
     "metadata": {},
     "output_type": "execute_result"
    }
   ],
   "source": [
    "\"'MEDTRONIC PUERTO RICO OPERATIONS CO.'\" in testset"
   ]
  },
  {
   "cell_type": "code",
   "execution_count": 965,
   "metadata": {
    "collapsed": false
   },
   "outputs": [],
   "source": [
    "problemdf.info()\n",
    "#reps"
   ]
  },
  {
   "cell_type": "code",
   "execution_count": 943,
   "metadata": {
    "collapsed": false
   },
   "outputs": [],
   "source": [
    "#items = [\"apple\",  \"banan\", \"banana\", \"apple\", \"bannna\", \"orange\", \"oranges\",\"appl\", \"orang\", \"orange\", \"bannna\", \"banana\"]\n",
    "#items = newmfrnames\n",
    "items=testset\n",
    "#items = [ 'MEDTRONIC INC.', 'ALCON INDUSTRIES, INC.',\n",
    " #'ALCON LABORATORIES, INC.', 'MEDTRONIC INK' ,'MEDTRONIC PUERTO RICO OPERATIONS CO.']"
   ]
  },
  {
   "cell_type": "code",
   "execution_count": 984,
   "metadata": {
    "collapsed": false
   },
   "outputs": [],
   "source": [
    "##takes a long time\n",
    "reps = dict()\n",
    "def clean_manufs(items):\n",
    "\n",
    "    for hold in items:\n",
    "        if hold in reps.keys():\n",
    "            pass\n",
    "        else:\n",
    "            for compare in items:\n",
    "                if compare in reps.keys():\n",
    "                    pass\n",
    "        ###make this higher than 90?\n",
    "                elif fuzz.token_set_ratio(hold, compare) > 90:\n",
    "                    print\"set \" + compare + \" to \" + hold\n",
    "                    reps[compare] = hold \n",
    "                \n",
    "    return reps"
   ]
  },
  {
   "cell_type": "code",
   "execution_count": 985,
   "metadata": {
    "collapsed": false
   },
   "outputs": [
    {
     "data": {
      "text/plain": [
       "0"
      ]
     },
     "execution_count": 985,
     "metadata": {},
     "output_type": "execute_result"
    }
   ],
   "source": [
    "len(reps)"
   ]
  },
  {
   "cell_type": "code",
   "execution_count": 959,
   "metadata": {
    "collapsed": false
   },
   "outputs": [],
   "source": [
    "errs=[]\n",
    "for index, item in enumerate(problemdf['manufacturer']):\n",
    "    try:\n",
    "        problemdf.loc[index, 'manufacturer'] = reps[item]\n",
    "    except KeyError:\n",
    "        errs.append(item)"
   ]
  },
  {
   "cell_type": "code",
   "execution_count": 727,
   "metadata": {
    "collapsed": true
   },
   "outputs": [],
   "source": [
    "#items = newmfrnames\n",
    "#reps = {\n",
    "#  item2: item1 \n",
    "#  for item1 in items \n",
    "#  for item2 in items \n",
    "#  if fuzz.token_set_ratio(item1, item2) > 80\n",
    "#}\n",
    "\n"
   ]
  },
  {
   "cell_type": "code",
   "execution_count": 960,
   "metadata": {
    "collapsed": false
   },
   "outputs": [
    {
     "data": {
      "text/plain": [
       "2"
      ]
     },
     "execution_count": 960,
     "metadata": {},
     "output_type": "execute_result"
    }
   ],
   "source": [
    "len(set(errs))"
   ]
  },
  {
   "cell_type": "code",
   "execution_count": 982,
   "metadata": {
    "collapsed": false
   },
   "outputs": [],
   "source": [
    "#errs\n"
   ]
  },
  {
   "cell_type": "code",
   "execution_count": 649,
   "metadata": {
    "collapsed": false
   },
   "outputs": [
    {
     "data": {
      "text/plain": [
       "False"
      ]
     },
     "execution_count": 649,
     "metadata": {},
     "output_type": "execute_result"
    }
   ],
   "source": [
    "'MEDTRONIC PUERTO RICO OPERATIONS CO.' in problemdf['manufacturer']\n",
    "#reps.values()"
   ]
  },
  {
   "cell_type": "code",
   "execution_count": 823,
   "metadata": {
    "collapsed": false
   },
   "outputs": [
    {
     "data": {
      "text/plain": [
       "393"
      ]
     },
     "execution_count": 823,
     "metadata": {},
     "output_type": "execute_result"
    }
   ],
   "source": [
    "len(reps)"
   ]
  },
  {
   "cell_type": "code",
   "execution_count": 624,
   "metadata": {
    "collapsed": false
   },
   "outputs": [],
   "source": [
    "#sorted(set(newmfrnames))\n",
    "#521 at 90%\n",
    "#415 at 80%"
   ]
  },
  {
   "cell_type": "code",
   "execution_count": 586,
   "metadata": {
    "collapsed": false
   },
   "outputs": [],
   "source": [
    "for item in newmfrnames:\n",
    "    for i in range (0, len(newmfrnames)-1):\n",
    "        compare = newmfrnames[i]\n",
    "        if fuzz.token_set_ratio(item, compare) > 80:\n",
    "            newmfrnames[i] = item"
   ]
  },
  {
   "cell_type": "code",
   "execution_count": 593,
   "metadata": {
    "collapsed": false
   },
   "outputs": [],
   "source": [
    "#takes a while to run \n",
    "for name in sorted(set(newmfrnames)):\n",
    "    print name\n",
    "    for index, item in enumerate(problemdf['manufacturer']):\n",
    "        if fuzz.token_set_ratio(name, item) > 80:\n",
    "            problemdf.loc[index, 'manufacturer'] = name\n",
    "\n",
    "       "
   ]
  },
  {
   "cell_type": "code",
   "execution_count": null,
   "metadata": {
    "collapsed": true
   },
   "outputs": [],
   "source": [
    "fuzz.token_set_ratio()"
   ]
  },
  {
   "cell_type": "code",
   "execution_count": 436,
   "metadata": {
    "collapsed": true
   },
   "outputs": [],
   "source": []
  },
  {
   "cell_type": "code",
   "execution_count": null,
   "metadata": {
    "collapsed": false
   },
   "outputs": [],
   "source": []
  },
  {
   "cell_type": "code",
   "execution_count": null,
   "metadata": {
    "collapsed": false
   },
   "outputs": [],
   "source": []
  },
  {
   "cell_type": "code",
   "execution_count": 833,
   "metadata": {
    "collapsed": false
   },
   "outputs": [],
   "source": [
    "#adversedf.head()\n",
    "#testroup = adversedf.groupby('manufacturer')"
   ]
  },
  {
   "cell_type": "code",
   "execution_count": 834,
   "metadata": {
    "collapsed": false
   },
   "outputs": [],
   "source": [
    "#testroup.head()\n",
    "#testroup.describe()"
   ]
  },
  {
   "cell_type": "code",
   "execution_count": 102,
   "metadata": {
    "collapsed": false
   },
   "outputs": [],
   "source": [
    "from fuzzywuzzy import fuzz\n",
    "from fuzzywuzzy import process"
   ]
  },
  {
   "cell_type": "code",
   "execution_count": 70,
   "metadata": {
    "collapsed": false
   },
   "outputs": [],
   "source": [
    "from bokeh.charts import Bar"
   ]
  },
  {
   "cell_type": "code",
   "execution_count": null,
   "metadata": {
    "collapsed": false
   },
   "outputs": [],
   "source": []
  },
  {
   "cell_type": "code",
   "execution_count": 19,
   "metadata": {
    "collapsed": false
   },
   "outputs": [],
   "source": [
    "adversedf.to_csv(\"sampledata.csv\")"
   ]
  },
  {
   "cell_type": "code",
   "execution_count": 967,
   "metadata": {
    "collapsed": false
   },
   "outputs": [],
   "source": [
    "#adversedf.loc[1, 'num_people'] = 20\n",
    "#adversedf\n",
    "#adversedf.loc[1, 'num_people'] = 50"
   ]
  },
  {
   "cell_type": "code",
   "execution_count": 835,
   "metadata": {
    "collapsed": false
   },
   "outputs": [],
   "source": [
    "#get_generic(dicts)"
   ]
  },
  {
   "cell_type": "code",
   "execution_count": 900,
   "metadata": {
    "collapsed": false
   },
   "outputs": [],
   "source": [
    "#dicts[0][0].keys()"
   ]
  },
  {
   "cell_type": "code",
   "execution_count": null,
   "metadata": {
    "collapsed": false
   },
   "outputs": [],
   "source": []
  },
  {
   "cell_type": "code",
   "execution_count": 156,
   "metadata": {
    "collapsed": false
   },
   "outputs": [],
   "source": [
    "#result.info()"
   ]
  },
  {
   "cell_type": "code",
   "execution_count": 899,
   "metadata": {
    "collapsed": false
   },
   "outputs": [
    {
     "data": {
      "text/plain": [
       "[{u'baseline_510_k__exempt_flag': u'',\n",
       "  u'baseline_510_k__flag': u'',\n",
       "  u'baseline_510_k__number': u'',\n",
       "  u'brand_name': u'RESTORE ADVANCED',\n",
       "  u'catalog_number': u'',\n",
       "  u'date_received': u'20080814',\n",
       "  u'date_removed_flag': u'V',\n",
       "  u'device_age_text': u'',\n",
       "  u'device_availability': u'Yes',\n",
       "  u'device_evaluated_by_manufacturer': u'',\n",
       "  u'device_event_key': u'1122358',\n",
       "  u'device_operator': u'LAY USER/PATIENT',\n",
       "  u'device_report_product_code': u'LGW',\n",
       "  u'device_sequence_number': u'1',\n",
       "  u'generic_name': u'NEUROSTIMULATOR',\n",
       "  u'implant_flag': u'Y',\n",
       "  u'lot_number': u'',\n",
       "  u'manufacturer_d_address_1': u'RETURN FINISHED GOODS',\n",
       "  u'manufacturer_d_address_2': u'ATTN RGR 2240 WOODALE DR',\n",
       "  u'manufacturer_d_city': u'MOUNDS VIEW',\n",
       "  u'manufacturer_d_country': u'US',\n",
       "  u'manufacturer_d_name': u'MEDTRONIC INC.',\n",
       "  u'manufacturer_d_postal_code': u'',\n",
       "  u'manufacturer_d_state': u'MN',\n",
       "  u'manufacturer_d_zip_code': u'55112',\n",
       "  u'manufacturer_d_zip_code_ext': u'',\n",
       "  u'model_number': u'',\n",
       "  u'openfda': {u'device_class': u'3',\n",
       "   u'device_name': u'Stimulator, Spinal-Cord, Totally Implanted For Pain Relief',\n",
       "   u'medical_specialty_description': u'Unknown',\n",
       "   u'regulation_number': u''},\n",
       "  u'other_id_number': u''}]"
      ]
     },
     "execution_count": 899,
     "metadata": {},
     "output_type": "execute_result"
    }
   ],
   "source": [
    "dicts[0]['device']"
   ]
  },
  {
   "cell_type": "code",
   "execution_count": 64,
   "metadata": {
    "collapsed": false
   },
   "outputs": [
    {
     "data": {
      "text/plain": [
       "5000"
      ]
     },
     "execution_count": 64,
     "metadata": {},
     "output_type": "execute_result"
    }
   ],
   "source": [
    "len(result['serious'])"
   ]
  },
  {
   "cell_type": "code",
   "execution_count": 47,
   "metadata": {
    "collapsed": true
   },
   "outputs": [],
   "source": [
    "eventdf = pd.DataFrame(columns=['num_people', 'generic_name', 'event_type', 'event_location', 'manufacturer', 'source'])"
   ]
  },
  {
   "cell_type": "code",
   "execution_count": 901,
   "metadata": {
    "collapsed": false
   },
   "outputs": [],
   "source": [
    "index=0\n",
    "for item in dicts:\n",
    "    #want ability to select device type here but bokeh won't plot\n",
    "       #if (item['device'][0]['generic_name']).find(\"CATHETER\")==0:\n",
    "    if item['number_patients_in_event'] == \"\" or isnan(item['number_patients_in_event']):\n",
    "        eventdf.loc[index, 'num_people'] = 1\n",
    "    else: \n",
    "        eventdf.loc[index, 'num_people'] = (item['number_patients_in_event'])\n",
    "    if 'date_manufacturer_received' in item.keys():\n",
    "        eventdf.loc[index, 'date_manufacturer_received'] = str(item['date_manufacturer_received'])\n",
    "    else:\n",
    "        eventdf.loc[index, 'date_manufacturer_received'] = \"NA\"\n",
    "    if 'date_report' in item.keys():\n",
    "        eventdf.loc[index, 'date_report'] = str(item['date_report'])\n",
    "    else:\n",
    "        eventdf.loc[index, 'date_report'] = \"NA\"\n",
    "    if 'date_of_event' in item.keys():\n",
    "        eventdf.loc[index, 'date_of_event'] = str(item['date_of_event'])\n",
    "    else:\n",
    "        eventdf.loc[index, 'date_of_event'] = \"NA\"\n",
    "    if 'medical_specialty_description' in ((item['device'])[0]['openfda']).keys():\n",
    "        eventdf.loc[index, 'specialty']=((item['device'])[0]['openfda'])['medical_specialty_description'].strip()\n",
    "    else:\n",
    "        eventdf.loc[index, 'specialty'] = \"NA\"\n",
    "    if 'device_class' in ((item['device'])[0]['openfda']).keys():\n",
    "        eventdf.loc[index, 'class']=((item['device'])[0]['openfda'])['device_class'].strip()\n",
    "    else:\n",
    "        eventdf.loc[index, 'class'] = \"NA\"\n",
    "    if 'regulation_number' in ((item['device'])[0]['openfda']).keys():\n",
    "        eventdf.loc[index, 'regulation_number']=((item['device'])[0]['openfda'])['regulation_number'].strip()\n",
    "    else:\n",
    "        eventdf.loc[index, 'regulation_number'] = \"NA\"\n",
    "        \n",
    "    eventdf.loc[index, 'generic_name'] = (item['device'][0]['generic_name']).encode('utf-8').replace(\":\", \"\")\n",
    "    eventdf.loc[index, 'event_type'] = str(item['event_type'])\n",
    "    eventdf.loc[index, 'event_location'] = str(item['event_location'])\n",
    "    eventdf.loc[index, 'manufacturer'] = (item['device'][0]['manufacturer_d_name']).encode('utf-8').strip()\n",
    "    eventdf.loc[index, 'source']=str(item['report_source_code'])\n",
    "    eventdf.loc[index, 'adverse_event_flag'] = str(item['adverse_event_flag'])\n",
    "    eventdf.loc[index, 'date_received'] = str(item['date_received'])\n",
    "    \n",
    "\n",
    "    index+=1"
   ]
  },
  {
   "cell_type": "code",
   "execution_count": 978,
   "metadata": {
    "collapsed": false
   },
   "outputs": [
    {
     "data": {
      "text/html": [
       "<div>\n",
       "<table border=\"1\" class=\"dataframe\">\n",
       "  <thead>\n",
       "    <tr style=\"text-align: right;\">\n",
       "      <th></th>\n",
       "      <th>num_people</th>\n",
       "      <th>generic_name</th>\n",
       "      <th>event_type</th>\n",
       "      <th>event_location</th>\n",
       "      <th>manufacturer</th>\n",
       "      <th>source</th>\n",
       "      <th>specialty</th>\n",
       "      <th>adverse_event_flag</th>\n",
       "      <th>date_manufacturer_received</th>\n",
       "      <th>date_of_event</th>\n",
       "      <th>date_received</th>\n",
       "      <th>date_report</th>\n",
       "      <th>class</th>\n",
       "      <th>regulation_number</th>\n",
       "    </tr>\n",
       "  </thead>\n",
       "  <tbody>\n",
       "    <tr>\n",
       "      <th>count</th>\n",
       "      <td>5000</td>\n",
       "      <td>5000</td>\n",
       "      <td>5000</td>\n",
       "      <td>5000</td>\n",
       "      <td>5000</td>\n",
       "      <td>5000</td>\n",
       "      <td>5000</td>\n",
       "      <td>5000</td>\n",
       "      <td>5000</td>\n",
       "      <td>5000</td>\n",
       "      <td>5000</td>\n",
       "      <td>5000</td>\n",
       "      <td>5000</td>\n",
       "      <td>5000</td>\n",
       "    </tr>\n",
       "    <tr>\n",
       "      <th>unique</th>\n",
       "      <td>1</td>\n",
       "      <td>1371</td>\n",
       "      <td>5</td>\n",
       "      <td>16</td>\n",
       "      <td>1157</td>\n",
       "      <td>4</td>\n",
       "      <td>20</td>\n",
       "      <td>3</td>\n",
       "      <td>2428</td>\n",
       "      <td>2391</td>\n",
       "      <td>2463</td>\n",
       "      <td>2513</td>\n",
       "      <td>7</td>\n",
       "      <td>307</td>\n",
       "    </tr>\n",
       "    <tr>\n",
       "      <th>top</th>\n",
       "      <td>1</td>\n",
       "      <td></td>\n",
       "      <td>Malfunction</td>\n",
       "      <td></td>\n",
       "      <td>MEDTRONIC PUERTO RICO OPERATIONS CO.</td>\n",
       "      <td>Manufacturer report</td>\n",
       "      <td>Unknown</td>\n",
       "      <td>N</td>\n",
       "      <td>NA</td>\n",
       "      <td>NA</td>\n",
       "      <td>20140113</td>\n",
       "      <td>NA</td>\n",
       "      <td>2</td>\n",
       "      <td></td>\n",
       "    </tr>\n",
       "    <tr>\n",
       "      <th>freq</th>\n",
       "      <td>5000</td>\n",
       "      <td>348</td>\n",
       "      <td>3015</td>\n",
       "      <td>3312</td>\n",
       "      <td>176</td>\n",
       "      <td>4718</td>\n",
       "      <td>1311</td>\n",
       "      <td>3117</td>\n",
       "      <td>344</td>\n",
       "      <td>1128</td>\n",
       "      <td>14</td>\n",
       "      <td>301</td>\n",
       "      <td>2819</td>\n",
       "      <td>1311</td>\n",
       "    </tr>\n",
       "  </tbody>\n",
       "</table>\n",
       "</div>"
      ],
      "text/plain": [
       "        num_people generic_name   event_type event_location  \\\n",
       "count         5000         5000         5000           5000   \n",
       "unique           1         1371            5             16   \n",
       "top              1               Malfunction                  \n",
       "freq          5000          348         3015           3312   \n",
       "\n",
       "                                manufacturer               source specialty  \\\n",
       "count                                   5000                 5000      5000   \n",
       "unique                                  1157                    4        20   \n",
       "top     MEDTRONIC PUERTO RICO OPERATIONS CO.  Manufacturer report   Unknown   \n",
       "freq                                     176                 4718      1311   \n",
       "\n",
       "       adverse_event_flag date_manufacturer_received date_of_event  \\\n",
       "count                5000                       5000          5000   \n",
       "unique                  3                       2428          2391   \n",
       "top                     N                         NA            NA   \n",
       "freq                 3117                        344          1128   \n",
       "\n",
       "       date_received date_report class regulation_number  \n",
       "count           5000        5000  5000              5000  \n",
       "unique          2463        2513     7               307  \n",
       "top         20140113          NA     2                    \n",
       "freq              14         301  2819              1311  "
      ]
     },
     "execution_count": 978,
     "metadata": {},
     "output_type": "execute_result"
    }
   ],
   "source": [
    "eventdf.describe()"
   ]
  },
  {
   "cell_type": "code",
   "execution_count": null,
   "metadata": {
    "collapsed": false
   },
   "outputs": [],
   "source": [
    "#sum(eventdf[eventdf['class']==\"3\"])\n",
    "#add ['baseline_510_k__exempt_flag']??"
   ]
  },
  {
   "cell_type": "code",
   "execution_count": 987,
   "metadata": {
    "collapsed": false
   },
   "outputs": [
    {
     "data": {
      "text/plain": [
       "776"
      ]
     },
     "execution_count": 987,
     "metadata": {},
     "output_type": "execute_result"
    }
   ],
   "source": [
    "testset2 = sorted(list(eventdf['manufacturer']))\n",
    "len(set(testset2))"
   ]
  },
  {
   "cell_type": "code",
   "execution_count": 993,
   "metadata": {
    "collapsed": false
   },
   "outputs": [
    {
     "data": {
      "text/plain": [
       "{'1219655 DEPUY-RAYNHAM, A DIV. OF DEPUY ORTHOPAEDIC': '1219655 DEPUY-RAYNHAM, A DIV. OF DEPUY ORTHOPAEDIC',\n",
       " '1818910 DEPUY ORTHOPAEDICS, INC.': '1818910 DEPUY ORTHOPAEDICS, INC.',\n",
       " '3003895575 DEPUY FRANCE S.A.S.-SAINT PRIEST': '3003895575 DEPUY FRANCE S.A.S.-SAINT PRIEST',\n",
       " '3006356043 JOHNSON & JOHNSON MEDICAL': '3006356043 JOHNSON & JOHNSON MEDICAL',\n",
       " '3600-C.R. BARD ACCESS SYSTEMS PRODUCTS': '3600-C.R. BARD ACCESS SYSTEMS PRODUCTS',\n",
       " '3M ESPE DENTAL PRODUCTS': '3M ESPE DENTAL PRODUCTS',\n",
       " '8010379 DEPUY INTL., LTD': '8010379 DEPUY INTL., LTD',\n",
       " '8010379 DEPUY INTL., LTD.': '8010379 DEPUY INTL., LTD',\n",
       " '9616671 DEPUY (IRELAND)': '9616671 DEPUY (IRELAND)',\n",
       " 'A/O SYNTHES': 'A/O SYNTHES',\n",
       " 'ABBOTT DIABETES CARE': 'ABBOTT DIABETES CARE',\n",
       " 'ABBOTT DIAGNOSTICS DIVISION': 'ABBOTT DIAGNOSTICS DIVISION',\n",
       " 'ABBOTT GERMANY': 'ABBOTT GERMANY',\n",
       " 'ABBOTT LABORATORIES': 'ABBOTT LABORATORIES',\n",
       " 'ABBOTT LABOROTORIES': 'ABBOTT LABORATORIES',\n",
       " 'ABBOTT MANUFACTURING, INC.': 'ABBOTT MANUFACTURING, INC.',\n",
       " 'ABBOTT MEDICAL OPTICS': 'ABBOTT MEDICAL OPTICS',\n",
       " 'ABBOTT MFG., INC.': 'ABBOTT MFG., INC.',\n",
       " 'ABBOTT POINT OF CARE INC.': 'ABBOTT POINT OF CARE INC.',\n",
       " 'ABBOTT SPINE, INC.': 'ABBOTT SPINE, INC.',\n",
       " 'ABBOTT VASCULAR': 'ABBOTT VASCULAR',\n",
       " 'ACCESS POINT (ZHENJIANG) MEDICAL EQUIPMENT CO, LTD': 'ACCESS POINT (ZHENJIANG) MEDICAL EQUIPMENT CO, LTD',\n",
       " 'ACCESSCLOSURE, INC.': 'ACCESSCLOSURE, INC.',\n",
       " 'ACCLARENT, INC.': 'ACCLARENT, INC.',\n",
       " 'ACE SURGICAL SUPPLY CO.': 'ACE SURGICAL SUPPLY CO.',\n",
       " 'ACE SURGICAL SUPPLY COMPANY': 'ACE SURGICAL SUPPLY CO.',\n",
       " 'ACUMED LLC': 'ACUMED LLC',\n",
       " 'ADAC LABORATORIES': 'ADAC LABORATORIES',\n",
       " 'ADVANCED BIONICS CORP': 'ADVANCED BIONICS CORP',\n",
       " 'ADVANCED BIONICS CORPORATION': 'ADVANCED BIONICS CORPORATION',\n",
       " 'ADVANCED BIONICS LLC': 'ADVANCED BIONICS LLC',\n",
       " 'ADVANCED NEUROMODULATION SYSTEMS': 'ADVANCED NEUROMODULATION SYSTEMS',\n",
       " 'ADVANCED STERILIZATION PRODUCTS': 'ADVANCED STERILIZATION PRODUCTS',\n",
       " 'AESCULAP AG & CO KG': 'AESCULAP AG & CO KG',\n",
       " 'AESCULAP AG & CO. KG': 'AESCULAP AG & CO KG',\n",
       " 'AESCULAP AG AND CO KG': 'AESCULAP AG & CO KG',\n",
       " 'AESCULAP, INC.': 'AESCULAP, INC.',\n",
       " 'AGA MEDICAL CORPORATION': 'AGA MEDICAL CORPORATION',\n",
       " 'AGFA HEALTHCARE CORP': 'AGFA HEALTHCARE CORP',\n",
       " 'AGFA HEALTHCARE CORPORATION': 'AGFA HEALTHCARE CORPORATION',\n",
       " 'AGILENT TECHNOLOGIES, INC': 'AGILENT TECHNOLOGIES, INC',\n",
       " 'ALARIS': 'ALARIS',\n",
       " 'ALARIS MEDICAL SYSTEMS': 'ALARIS',\n",
       " 'ALCON - BELGIUM / S.A. - ALCON-COUVREUR N.V.': 'ALCON - BELGIUM / S.A. - ALCON-COUVREUR N.V.',\n",
       " 'ALCON - HOUSTON': 'ALCON - HOUSTON',\n",
       " 'ALCON - IRVINE TECH. CTR.': 'ALCON - IRVINE TECH. CTR.',\n",
       " 'ALCON - IRVINE TECHNOLOGY CENTER': 'ALCON - IRVINE TECHNOLOGY CENTER',\n",
       " 'ALCON IBERHIS, S.A.': 'ALCON IBERHIS, S.A.',\n",
       " 'ALCON INDUSTRIES, INC.': 'ALCON INDUSTRIES, INC.',\n",
       " 'ALCON LABORATORIES, INC': 'ALCON LABORATORIES, INC',\n",
       " 'ALCON LABORATORIES, INC./ HUNTINGTON': 'ALCON LABORATORIES, INC',\n",
       " 'ALCON MANUFACTURING, LTD.': 'ALCON MANUFACTURING, LTD.',\n",
       " 'ALCON PRECISION DEVICE - SINKING SPRING': 'ALCON PRECISION DEVICE - SINKING SPRING',\n",
       " 'ALCON RESEARCH LTD/HUNTINGTON': 'ALCON RESEARCH LTD/HUNTINGTON',\n",
       " 'ALCON RESEARCH, LTD. - ALCON PRECISION DEVICE': 'ALCON RESEARCH, LTD. - ALCON PRECISION DEVICE',\n",
       " 'ALCON RESEARCH, LTD. - HUNTINGTON': 'ALCON RESEARCH LTD/HUNTINGTON',\n",
       " 'ALCON RESEARCH, LTD. / HUNTINGTON': 'ALCON RESEARCH LTD/HUNTINGTON',\n",
       " 'ALCON RESEARCH, LTD./ HUNTINGTON': 'ALCON RESEARCH LTD/HUNTINGTON',\n",
       " 'ALCON RESEARCH, LTD/HUNTINGTON': 'ALCON RESEARCH LTD/HUNTINGTON',\n",
       " 'ALCON RESEARCH. LTD. / HUNTINGTON': 'ALCON RESEARCH LTD/HUNTINGTON',\n",
       " 'ALERE SAN DIEGO, INC': 'ALERE SAN DIEGO, INC',\n",
       " 'ALLEGIANCE HEALTHCARE CORP.': 'ALLEGIANCE HEALTHCARE CORP.',\n",
       " 'ALLERGAN': 'ALLERGAN',\n",
       " 'ALLERGAN , INC.': 'ALLERGAN',\n",
       " 'ALPHATEC SPINE INC': 'ALPHATEC SPINE INC',\n",
       " 'ALTHIN MEDICAL, INC.': 'ALTHIN MEDICAL, INC.',\n",
       " 'AMADA TECHNOLOGIES, INC.': 'AMADA TECHNOLOGIES, INC.',\n",
       " 'AMEDA INC.': 'AMEDA INC.',\n",
       " 'AMERICAN HEYER-SCHULTE': 'AMERICAN HEYER-SCHULTE',\n",
       " 'AMERICAN MED SYS': 'AMERICAN MED SYS',\n",
       " 'AMERICAN MEDICAL SYSTEMS': 'AMERICAN MEDICAL SYSTEMS',\n",
       " 'AMS, INNOVATION CENTER - SILICON VALLEY': 'AMS, INNOVATION CENTER - SILICON VALLEY',\n",
       " 'ANGIODYNAMICS': 'ANGIODYNAMICS',\n",
       " 'ANGIOMED GMBH & CO. MEDIZINTECHNIK KG': 'ANGIOMED GMBH & CO. MEDIZINTECHNIK KG',\n",
       " 'ANIKA THERAPEUTICS, INC.': 'ANIKA THERAPEUTICS, INC.',\n",
       " 'ANIMAS CORP.': 'ANIMAS CORP.',\n",
       " 'ANIMAS CORPORATION': 'ANIMAS CORPORATION',\n",
       " 'ANSELL PERRY, INC.': 'ANSELL PERRY, INC.',\n",
       " 'APLICARE, INC': 'APLICARE, INC',\n",
       " 'APPLIED MEDICAL': 'APPLIED MEDICAL',\n",
       " 'AQUATEC OPERATIONS GMBH': 'AQUATEC OPERATIONS GMBH',\n",
       " 'ARGYLE (SHERIDAN)': 'ARGYLE (SHERIDAN)',\n",
       " 'ARIZONA DEVICE MANUFACTURING': 'ARIZONA DEVICE MANUFACTURING',\n",
       " 'ARJO CENTURY': 'ARJO CENTURY',\n",
       " 'ARJO MED AB LTD': 'ARJO MED AB LTD',\n",
       " 'ARJO, LTD.': 'ARJO MED AB LTD',\n",
       " 'ARJOHUNTLEIGH MAGOG INC.': 'ARJOHUNTLEIGH MAGOG INC.',\n",
       " 'ARKRAY, INC.': 'ARKRAY, INC.',\n",
       " 'ARM & HAMMER': 'ARM & HAMMER',\n",
       " \"ARROW INT'L, INC.\": \"ARROW INT'L, INC.\",\n",
       " 'ARROW INTERNATIONAL': 'ARROW INTERNATIONAL',\n",
       " 'ARROW INTERNATIONAL INC': 'ARROW INTERNATIONAL',\n",
       " 'ARROW INTERVENTIONAL, INC (SUBSIDIARY OF ARROW INTL, INC)': 'ARROW INTERVENTIONAL, INC (SUBSIDIARY OF ARROW INTL, INC)',\n",
       " 'ARROW INTL, INC.': \"ARROW INT'L, INC.\",\n",
       " 'ARTHREX, INC.': 'ARTHREX, INC.',\n",
       " 'ARTHROCARE CORP': 'ARTHROCARE CORP',\n",
       " 'ASAHI KASEI KURARY MEDICAL CO, ASAHI KASEI MEDICAL AMERICA INC.': 'ASAHI KASEI KURARY MEDICAL CO, ASAHI KASEI MEDICAL AMERICA INC.',\n",
       " 'ASCENSION ORTHOPEDICS, INC.': 'ASCENSION ORTHOPEDICS, INC.',\n",
       " 'ASHITAKA FACTORY OF TERUMO CORP.': 'ASHITAKA FACTORY OF TERUMO CORP.',\n",
       " 'ASPEN SURGICAL PRODUCTS, INC.': 'ASPEN SURGICAL PRODUCTS, INC.',\n",
       " 'ATRIUM MEDICAL CORP.': 'ATRIUM MEDICAL CORP.',\n",
       " 'ATRIUM MEDICAL CORPORATION': 'ATRIUM MEDICAL CORPORATION',\n",
       " 'AURORA SPINE, INC': 'AURORA SPINE, INC',\n",
       " 'AV-REDWOOD CITY': 'AV-REDWOOD CITY',\n",
       " 'AV-TEMECULA-CT': 'AV-TEMECULA-CT',\n",
       " 'AVECOR': 'AVECOR',\n",
       " 'B BRAUN VENA TECH': 'B BRAUN VENA TECH',\n",
       " 'B. BRAUN MEDICAL, INC.': 'B. BRAUN MEDICAL, INC.',\n",
       " 'BALLARD MEDICAL PRODUCTS': 'BALLARD MEDICAL PRODUCTS',\n",
       " 'BALLYMONEY - USS': 'BALLYMONEY - USS',\n",
       " 'BARD ACCESS SYSTEMS': '3600-C.R. BARD ACCESS SYSTEMS PRODUCTS',\n",
       " 'BARD BIOPSY SYSTEMS': 'BARD BIOPSY SYSTEMS',\n",
       " 'BARD MEDICAL DEVICE': 'BARD MEDICAL DEVICE',\n",
       " 'BARD PERIPHERAL VASCULAR SYSTEM, INC.': 'BARD PERIPHERAL VASCULAR SYSTEM, INC.',\n",
       " 'BARD SHANNON LIMITED': 'BARD SHANNON LIMITED',\n",
       " 'BARD SHANNON LIMITED -3005636544': 'BARD SHANNON LIMITED',\n",
       " 'BARD UROLOGIC DIV.': 'BARD UROLOGIC DIV.',\n",
       " 'BARD UROLOGICAL': 'BARD UROLOGICAL',\n",
       " 'BARNSTEAD/THERMOLYNE': 'BARNSTEAD/THERMOLYNE',\n",
       " 'BAUSCH & LOMB': 'BAUSCH & LOMB',\n",
       " 'BAUSCH & LOMB INC.': 'BAUSCH & LOMB',\n",
       " 'BAUSCH + LOMB': 'BAUSCH & LOMB',\n",
       " 'BAXTER': 'BAXTER',\n",
       " 'BAXTER HEALTHCARE': 'BAXTER',\n",
       " 'BAXTER HEATHCARE CORPORATION': 'BAXTER',\n",
       " 'BAXTER HLTHCARE CORP': 'BAXTER',\n",
       " 'BAXTER/SABRATEK CORP.': 'BAXTER',\n",
       " 'BAXTER/SABRATEK CORPORATION': 'BAXTER',\n",
       " 'BAYER': 'BAYER',\n",
       " 'BAYER HEALTHCARE LLC': 'BAYER',\n",
       " 'BECKMAN COULTER': 'BECKMAN COULTER',\n",
       " 'BECTON DICKINSON': 'BECTON DICKINSON',\n",
       " 'BECTON DICKINSON CRITICAL CARE SYSTEMS PTE. LTD.': 'BECTON DICKINSON',\n",
       " 'BECTON DICKINSON INFUSION THERAPY SYSTEMS': 'BECTON DICKINSON',\n",
       " 'BEMIS MFG. CO.': 'BEMIS MFG. CO.',\n",
       " 'BERLIN HEART GMBH': 'BERLIN HEART GMBH',\n",
       " 'BIO-RAD MEDICAL DIAGNOSTICS GMBH': 'BIO-RAD MEDICAL DIAGNOSTICS GMBH',\n",
       " 'BIOENTERICS CORPORATION': 'BIOENTERICS CORPORATION',\n",
       " 'BIOHORIZONS IMPLANT SYSTEMS, INC.': 'BIOHORIZONS IMPLANT SYSTEMS, INC.',\n",
       " 'BIOLITEC, INC': 'BIOLITEC, INC',\n",
       " 'BIOMET 3I': 'BIOMET 3I',\n",
       " 'BIOMET MICROFIXATION': 'BIOMET MICROFIXATION',\n",
       " 'BIOMET ORTHOPEDICS': 'BIOMET ORTHOPEDICS',\n",
       " 'BIOMET SPORTS MEDICINE': 'BIOMET SPORTS MEDICINE',\n",
       " 'BIOMET UK LTD.': 'BIOMET UK LTD.',\n",
       " 'BIOMET, INC.': 'BIOMET, INC.',\n",
       " 'BIOSENSE WEBSTER, INC (IRWINDALE)': 'BIOSENSE WEBSTER, INC (IRWINDALE)',\n",
       " 'BIOSENSE WEBSTER, INC. (IRWINDALE)': 'BIOSENSE WEBSTER, INC (IRWINDALE)',\n",
       " 'BIOSENSE WEBSTER, INC. (JUAREZ)': 'BIOSENSE WEBSTER, INC. (JUAREZ)',\n",
       " 'BIOSIL LTD': 'BIOSIL LTD',\n",
       " 'BIOSIL LTD.': 'BIOSIL LTD',\n",
       " 'BIOSITE': 'BIOSITE',\n",
       " 'BIOSITE INCORPORATED': 'BIOSITE',\n",
       " 'BIOSTAR, INC.': 'BIOSTAR, INC.',\n",
       " 'BIOTRONIK GMBH & CO.': 'BIOTRONIK GMBH & CO.',\n",
       " 'BIOTRONIK GMBH AND CO': 'BIOTRONIK GMBH & CO.',\n",
       " 'BIOTRONIK GMBH AND CO.': 'BIOTRONIK GMBH & CO.',\n",
       " 'BIOTRONIK SE & CO KG': 'BIOTRONIK SE & CO KG',\n",
       " 'BIOTRONIK, GMBH AND CO': 'BIOTRONIK GMBH & CO.',\n",
       " 'BLACKSTONE MEDICAL': 'BLACKSTONE MEDICAL',\n",
       " 'BOSTON SCIENTIFIC': 'BOSTON SCIENTIFIC',\n",
       " 'BOSTON SCIENTIFIC - MINN': 'BOSTON SCIENTIFIC',\n",
       " 'BOSTON SCIENTIFIC - SAN JOSE': 'BOSTON SCIENTIFIC',\n",
       " 'BOSTON SCIENTIFIC CORP': 'BOSTON SCIENTIFIC',\n",
       " 'BOSTON SCIENTIFIC CORPORATION- MARLBOROUGH': 'BOSTON SCIENTIFIC',\n",
       " 'BRAUN GMBH WERK MARKTHEIDENFELD': 'BRAUN GMBH WERK MARKTHEIDENFELD',\n",
       " 'BSC LETTERKENNY': 'BSC LETTERKENNY',\n",
       " 'C. R. BARD INC. (BASD)': 'C. R. BARD INC. (BASD)',\n",
       " 'C.R. BARD, INC. (COVINGTON)': 'C.R. BARD, INC. (COVINGTON)',\n",
       " 'C.T.M. HOMECARE PRODUCT, INC': 'C.T.M. HOMECARE PRODUCT, INC',\n",
       " 'CAIRE INC.': 'CAIRE INC.',\n",
       " 'CALCITEK': 'CALCITEK',\n",
       " 'CAMERON HEALTH': 'CAMERON HEALTH',\n",
       " 'CAN\\xc3\\x88 S.P.A.': 'CAN\\xc3\\x88 S.P.A.',\n",
       " 'CARDIAC PACEMAKERS': 'CARDIAC PACEMAKERS',\n",
       " 'CARDINAL HEALTH 203/PULMONETIC SYSTEMS': 'CARDINAL HEALTH 203/PULMONETIC SYSTEMS',\n",
       " 'CARDINAL HEALTH 203/PULMONETIC SYSTEMS, INC.': 'CARDINAL HEALTH 203/PULMONETIC SYSTEMS',\n",
       " 'CARDIOVASCULAR SYSTEMS INCORPORATED': 'CARDIOVASCULAR SYSTEMS INCORPORATED',\n",
       " 'CARDIVA MEDICAL, INC.': 'CARDIVA MEDICAL, INC.',\n",
       " 'CARE FUSION 303, INC.': 'CARE FUSION 303, INC.',\n",
       " 'CAREFUSION': 'CAREFUSION',\n",
       " 'CAREFUSION 303, INC.': 'CARE FUSION 303, INC.',\n",
       " 'CAREFUSION CORP.': 'CAREFUSION',\n",
       " 'CARROLL HEALTHCARE': 'CARROLL HEALTHCARE',\n",
       " 'CD MEDICAL, INC.': 'CD MEDICAL, INC.',\n",
       " 'CENTERPULSE ORTHOPEDICS, INC.': 'CENTERPULSE ORTHOPEDICS, INC.',\n",
       " 'CHATTEM, INC': 'CHATTEM, INC',\n",
       " 'CHIRON VISION CORP.': 'CHIRON VISION CORP.',\n",
       " 'CHURCH & DWIGHT CO., INC.': 'CHURCH & DWIGHT CO., INC.',\n",
       " 'CIBA VISION JOHOR SDN.BHD.': 'CIBA VISION JOHOR SDN.BHD.',\n",
       " 'CIRCON ACMI': 'CIRCON ACMI',\n",
       " 'CIRCON MEDICAL': 'CIRCON MEDICAL',\n",
       " 'CL CLEVELAND PLANT (REL)': 'CL CLEVELAND PLANT (REL)',\n",
       " 'CLEARSTREAM TECHNOLOGIES, LTD.': 'CLEARSTREAM TECHNOLOGIES, LTD.',\n",
       " 'CLOSURE MEDICAL CORP.': 'CLOSURE MEDICAL CORP.',\n",
       " 'COCHLEAR BONE ANCHORED SOLUTIONS': 'COCHLEAR BONE ANCHORED SOLUTIONS',\n",
       " 'COCHLEAR BONE ANCHORED SOLUTIONS AB': 'COCHLEAR BONE ANCHORED SOLUTIONS',\n",
       " 'COCHLEAR LTD': 'COCHLEAR LTD',\n",
       " 'COCHLEAR LTD .': 'COCHLEAR LTD',\n",
       " 'CODMAN   SHURTLEFF': 'CODMAN   SHURTLEFF',\n",
       " 'CODMAN & SHURTLEFF, INC., MEDOS S.A.': 'CODMAN   SHURTLEFF',\n",
       " 'CODMAN & SHURTLEFF, INC./MEDOS S.A.': 'CODMAN   SHURTLEFF',\n",
       " 'CODMAN AND SHURTLEFF - MEDOS': 'CODMAN   SHURTLEFF',\n",
       " 'COLOPLAST A/S': 'COLOPLAST A/S',\n",
       " 'CONCENTRIC MEDICAL': 'CONCENTRIC MEDICAL',\n",
       " 'CONCENTRIC MEDICAL, INC.': 'CONCENTRIC MEDICAL',\n",
       " 'CONCEPTUS': 'CONCEPTUS',\n",
       " 'CONFORMIS, INC.': 'CONFORMIS, INC.',\n",
       " 'CONMED': 'CONMED',\n",
       " 'CONSMA': 'CONSMA',\n",
       " 'CONVATEC DOMINICAN REPUBLIC, INC': 'CONVATEC DOMINICAN REPUBLIC, INC',\n",
       " 'CONVATEC PROFESSIONAL SERVICES': 'CONVATEC PROFESSIONAL SERVICES',\n",
       " 'COOK BIOTECH, INC.': 'COOK BIOTECH, INC.',\n",
       " 'COOK ENDOSCOPY': 'COOK ENDOSCOPY',\n",
       " 'COOK INC': 'COOK BIOTECH, INC.',\n",
       " 'COOK INCORPORATED': 'COOK INCORPORATED',\n",
       " 'COOK MEDICAL': 'COOK MEDICAL',\n",
       " 'COOK UROLOGICAL': 'COOK UROLOGICAL',\n",
       " 'COOK UROLOGICAL, INC.': 'COOK UROLOGICAL',\n",
       " 'COOK, INCORPORATION': 'COOK, INCORPORATION',\n",
       " 'COOPERSURGICAL, INC.': 'COOPERSURGICAL, INC.',\n",
       " 'COOPERVISION MANUFACTURING, LTD.': 'COOPERVISION MANUFACTURING, LTD.',\n",
       " 'CORDIS CORP.': 'CORDIS CORP.',\n",
       " 'CORDIS CORPORATION': 'CORDIS CORPORATION',\n",
       " 'CORDIS DE MEXICO': 'CORDIS DE MEXICO',\n",
       " 'CORDIS EUROPA N.V. (RODEN)': 'CORDIS EUROPA N.V. (RODEN)',\n",
       " 'CORDIS EUROPA, N.V.': 'CORDIS EUROPA N.V. (RODEN)',\n",
       " 'CORDIS LLC (PR)': 'CORDIS LLC (PR)',\n",
       " 'CORDIS NEUROVASCULAR, INC.': 'CORDIS NEUROVASCULAR, INC.',\n",
       " 'CORE-VENT BIO-EENGINEERING': 'CORE-VENT BIO-EENGINEERING',\n",
       " 'CORE-VENT BIO-ENGINEERING': 'CORE-VENT BIO-EENGINEERING',\n",
       " 'CORE-VENT CORP.': 'CORE-VENT CORP.',\n",
       " 'COSTA RICA': 'COSTA RICA',\n",
       " 'COVIDIEN': 'COVIDIEN',\n",
       " 'COVIDIEN, FORMERLY US SURGICAL A DIVISON': 'COVIDIEN',\n",
       " 'CPI - DEL CARIBE': 'CPI - DEL CARIBE',\n",
       " 'CPI PLANT - ST. PAUL': 'CPI PLANT - ST. PAUL',\n",
       " 'CR BARD GALWAY LTD.': 'CR BARD GALWAY LTD.',\n",
       " 'CR BARD, INC.': 'CR BARD, INC.',\n",
       " 'CRITIKON, INC.': 'CRITIKON, INC.',\n",
       " 'CRYOLIFE, INC.': 'CRYOLIFE, INC.',\n",
       " 'CUSTOM ULTRASONICS, INC.': 'CUSTOM ULTRASONICS, INC.',\n",
       " 'CYBERONICS': 'CYBERONICS',\n",
       " 'CYBERONICS - HOUSTON': 'CYBERONICS',\n",
       " 'DANYANG JUMAO HEALTHCARE EQUIPMENT CO.,LTD.': 'DANYANG JUMAO HEALTHCARE EQUIPMENT CO.,LTD.',\n",
       " 'DANYANG MAXTHAI MEDICAL EQUIPMENT': 'DANYANG MAXTHAI MEDICAL EQUIPMENT',\n",
       " 'DATASCOPE': 'DATASCOPE',\n",
       " 'DATASCOPE CORP': 'DATASCOPE',\n",
       " 'DATASCOPE CORP./COLLAGEN PRODUCTS': 'DATASCOPE',\n",
       " 'DATEX-OHMEDA': 'DATEX-OHMEDA',\n",
       " 'DATEX-OHMEDA INC.': 'DATEX-OHMEDA',\n",
       " 'DAVOL INC': 'DAVOL INC',\n",
       " 'DAVOL INC., SUB C.R. BARD, INC.': 'DAVOL INC',\n",
       " 'DAVOL INC., SUB. C.R. BARD, INC.': 'DAVOL INC',\n",
       " 'DEFIBTECH, L.L.C.': 'DEFIBTECH, L.L.C.',\n",
       " 'DELTEC': 'DELTEC',\n",
       " 'DEN-TAL-EZ': 'DEN-TAL-EZ',\n",
       " 'DENTEK ORAL CARE, INC.': 'DENTEK ORAL CARE, INC.',\n",
       " 'DENTIUM USA': 'DENTIUM USA',\n",
       " 'DENTSPLY MAILLEFER': 'DENTSPLY MAILLEFER',\n",
       " 'DENTSPLY PROFESSIONAL': 'DENTSPLY PROFESSIONAL',\n",
       " 'DENTSPLY TULSA': 'DENTSPLY TULSA',\n",
       " 'DEPUY  INTERNATIONAL , LTD.': 'DEPUY  INTERNATIONAL , LTD.',\n",
       " 'DEPUY (IRELAND) 9616671': '9616671 DEPUY (IRELAND)',\n",
       " 'DEPUY FRANCE S.A.': '3003895575 DEPUY FRANCE S.A.S.-SAINT PRIEST',\n",
       " 'DEPUY FRANCE SAS': 'DEPUY FRANCE SAS',\n",
       " 'DEPUY FRANCE SAS 3003895575': '3003895575 DEPUY FRANCE S.A.S.-SAINT PRIEST',\n",
       " 'DEPUY FRNACE S.A.': 'DEPUY FRNACE S.A.',\n",
       " 'DEPUY INTERNATIONAL': 'DEPUY  INTERNATIONAL , LTD.',\n",
       " 'DEPUY INTERNATIONAL LTD - 8010379': 'DEPUY  INTERNATIONAL , LTD.',\n",
       " 'DEPUY INTERNATIONAL LTD 8010379': 'DEPUY  INTERNATIONAL , LTD.',\n",
       " 'DEPUY INTERNATIONAL LTD.': 'DEPUY  INTERNATIONAL , LTD.',\n",
       " 'DEPUY INTERNATIONAL LTD. - 8010379': 'DEPUY  INTERNATIONAL , LTD.',\n",
       " 'DEPUY INTERNATIONAL LTD. 8010379': 'DEPUY  INTERNATIONAL , LTD.',\n",
       " 'DEPUY INTERNATIONAL LTD.-8010379': 'DEPUY  INTERNATIONAL , LTD.',\n",
       " 'DEPUY INTERNATIONAL, LTD.': 'DEPUY  INTERNATIONAL , LTD.',\n",
       " 'DEPUY INTL, LTD': '8010379 DEPUY INTL., LTD',\n",
       " 'DEPUY INTL., LTD - 8010379': '8010379 DEPUY INTL., LTD',\n",
       " 'DEPUY INTL., LTD.': '8010379 DEPUY INTL., LTD',\n",
       " 'DEPUY INTL., LTD. - 8010379': '8010379 DEPUY INTL., LTD',\n",
       " 'DEPUY INTL., LTD. \\xc2\\xbf REG. # 8010379': '8010379 DEPUY INTL., LTD',\n",
       " 'DEPUY INTL., LTD.8010379': '8010379 DEPUY INTL., LTD',\n",
       " 'DEPUY INTL.,LTD 8010379': '8010379 DEPUY INTL., LTD',\n",
       " 'DEPUY IRELAND': '9616671 DEPUY (IRELAND)',\n",
       " 'DEPUY IRELAND 9616671': '9616671 DEPUY (IRELAND)',\n",
       " 'DEPUY IRELAND ? REG. # 9616671': '9616671 DEPUY (IRELAND)',\n",
       " 'DEPUY IRELAND \\xc2\\xbf REG. # 9616671': '9616671 DEPUY (IRELAND)',\n",
       " 'DEPUY IRELAND-9616671': '9616671 DEPUY (IRELAND)',\n",
       " 'DEPUY MITEK': 'DEPUY MITEK',\n",
       " 'DEPUY ORTHOPAEDICS INC': '1818910 DEPUY ORTHOPAEDICS, INC.',\n",
       " 'DEPUY ORTHOPAEDICS, INC. 1818910': '1818910 DEPUY ORTHOPAEDICS, INC.',\n",
       " 'DEPUY ORTHOPAEDICS, INC./REG. #1818910': '1818910 DEPUY ORTHOPAEDICS, INC.',\n",
       " 'DEPUY ORTHOPAEDICS, INC.1818910': '1818910 DEPUY ORTHOPAEDICS, INC.',\n",
       " 'DEPUY ORTHOPAEDICS, LTD.': 'DEPUY ORTHOPAEDICS, LTD.',\n",
       " 'DEPUY SPINE, INC.': 'DEPUY SPINE, INC.',\n",
       " 'DEPUY SYNTHES': 'DEPUY SYNTHES',\n",
       " 'DEPUY WARSAW': 'DEPUY WARSAW',\n",
       " 'DEPUY-CORK, A DIVISION OF DEPUY ORTHOPAEDICS': 'DEPUY-CORK, A DIVISION OF DEPUY ORTHOPAEDICS',\n",
       " 'DEPUY-RAYNHAM, A DIV OF DEPUY ORTHOPAEDICS, INC.': 'DEPUY-RAYNHAM, A DIV OF DEPUY ORTHOPAEDICS, INC.',\n",
       " 'DEPUY-RAYNHAM, A DIVISION OF DEPUY ORTHOPAEDICS, INC.': 'DEPUY-CORK, A DIVISION OF DEPUY ORTHOPAEDICS',\n",
       " 'DEXCOM INC': 'DEXCOM INC',\n",
       " 'DIAGNOSTIC SOLUTIONS, INC.': 'DIAGNOSTIC SOLUTIONS, INC.',\n",
       " 'DISETRONIC MEDICAL SYSEMS': 'DISETRONIC MEDICAL SYSEMS',\n",
       " 'DISETRONIC MEDICAL SYSTEMS': 'DISETRONIC MEDICAL SYSEMS',\n",
       " 'DORNIER MEDTECH AMERICA, INC.': 'DORNIER MEDTECH AMERICA, INC.',\n",
       " 'DOW CORNING': 'DOW CORNING',\n",
       " 'DOW CORNING CORP': 'DOW CORNING',\n",
       " 'DRAEGER MEDICAL, INC.': 'DRAEGER MEDICAL, INC.',\n",
       " 'DVO': 'DVO',\n",
       " 'EDWARDS LIFESCIENCES': 'EDWARDS LIFESCIENCES',\n",
       " 'EES-JUAREZ': 'EES-JUAREZ',\n",
       " 'ELA MEDICAL': 'ELA MEDICAL',\n",
       " 'ELA MEDICAL, S.A.': 'ELA MEDICAL',\n",
       " 'ELI LILLY AND COMPANY': 'ELI LILLY AND COMPANY',\n",
       " 'ELLIPSE TECHNOLOGIES, INCORPORATED': 'ELLIPSE TECHNOLOGIES, INCORPORATED',\n",
       " 'EMD SERONO, INC.': 'EMD SERONO, INC.',\n",
       " 'EMG TECHNOLOGY CO., LTD.': 'EMG TECHNOLOGY CO., LTD.',\n",
       " 'EMPI': 'EMPI',\n",
       " 'ENCISION, INC.': 'ENCISION, INC.',\n",
       " 'ENCORE MEDICAL, L.P.': 'ENCORE MEDICAL, L.P.',\n",
       " 'ENDOLOGIX, INC.': 'ENDOLOGIX, INC.',\n",
       " 'ENTERO MEDIC': 'ENTERO MEDIC',\n",
       " 'ESPE DENTAL AG': 'ESPE DENTAL AG',\n",
       " 'ETHICON': 'ETHICON',\n",
       " 'ETHICON ENDO SURGERY, INC.': 'ETHICON',\n",
       " 'ETHICON ENDO-SURGERY, INC': 'ETHICON',\n",
       " 'ETHICON ENDO-SURGERY, INC. (TORRES)': 'ETHICON',\n",
       " 'ETHICON GMBH & COMPANY KG': 'ETHICON',\n",
       " 'ETHICON INC': 'ETHICON',\n",
       " 'ETHICON, INC. SAN ANGELO': 'ETHICON',\n",
       " 'ETHICON, INC. SAN ANTONIO': 'ETHICON',\n",
       " 'ETHICON, INC. SAN LORENZO': 'ETHICON',\n",
       " 'EV3 INC.': 'EV3 INC.',\n",
       " 'EV3 NEUROVASCULAR': 'EV3 NEUROVASCULAR',\n",
       " 'EVOFEM': 'EVOFEM',\n",
       " 'EXACTECH, INC': 'EXACTECH, INC',\n",
       " 'EXACTECH, INC.': 'EXACTECH, INC',\n",
       " 'FERNO-WASHINGTON, INC.': 'FERNO-WASHINGTON, INC.',\n",
       " 'FIDIA SPA': 'FIDIA SPA',\n",
       " 'FISHER & PAYKEL': 'FISHER & PAYKEL',\n",
       " 'FLEXTRONICS EMS CANADA': 'FLEXTRONICS EMS CANADA',\n",
       " 'FRESENIUS': 'FRESENIUS',\n",
       " 'FRESENIUS HEMOCARE': 'FRESENIUS',\n",
       " 'GAMBRO DIALYSATOREN GMBH': 'GAMBRO DIALYSATOREN GMBH',\n",
       " 'GAMBRO DIAYLSATOREN GMBH': 'GAMBRO DIALYSATOREN GMBH',\n",
       " 'GAMBRO HEALTHCARE': 'GAMBRO HEALTHCARE',\n",
       " 'GE HEALTHCARE': 'GE HEALTHCARE',\n",
       " 'GE MARQUETTE MEDICAL SYSTEMS': 'GE MARQUETTE MEDICAL SYSTEMS',\n",
       " 'GE MEDICAL SYSTEMS (INDIA) PRIVATE LTD': 'GE MEDICAL SYSTEMS (INDIA) PRIVATE LTD',\n",
       " 'GE OEC MEDICAL SYSTEMS': 'GE OEC MEDICAL SYSTEMS',\n",
       " 'GENTEEL HOMECARE PRODUCTS': 'GENTEEL HOMECARE PRODUCTS',\n",
       " 'GENZYME BIOSURGERY (RIDGEFIELD)': 'GENZYME BIOSURGERY (RIDGEFIELD)',\n",
       " 'GENZYME BIOSURGERY (SEPRAFILM/PACK)': 'GENZYME BIOSURGERY (SEPRAFILM/PACK)',\n",
       " 'GESCO INTL., INC.': 'GESCO INTL., INC.',\n",
       " 'GESELLSCHAFT FUR MEDIZINISCHE SONDENTECHNIK GMS, M': 'GESELLSCHAFT FUR MEDIZINISCHE SONDENTECHNIK GMS, M',\n",
       " 'GIVEN IMAGING LTD.': 'GIVEN IMAGING LTD.',\n",
       " 'GLAUKOS CORPORATION': 'GLAUKOS CORPORATION',\n",
       " 'GLAXOSMITHKLINE': 'GLAXOSMITHKLINE',\n",
       " 'GLIATECH MEDICAL, INC.': 'GLIATECH MEDICAL, INC.',\n",
       " 'GLOBAL PHARMACOVIGILANCE AND EPIDEMIOLOGY/SANOFI-AVENTIS': 'GLOBAL PHARMACOVIGILANCE AND EPIDEMIOLOGY/SANOFI-AVENTIS',\n",
       " 'GRASEBY MEDICAL INC': 'GRASEBY MEDICAL INC',\n",
       " 'GREATBATCH MEDICAL': 'GREATBATCH MEDICAL',\n",
       " 'GUARDIAN': 'GUARDIAN',\n",
       " 'GUIDANT': 'GUIDANT',\n",
       " 'GYNECARE WORLDWIDE': 'GYNECARE WORLDWIDE',\n",
       " 'GYRUS ACMI': 'GYRUS ACMI',\n",
       " 'GYRUS MEDICAL INC': 'GYRUS MEDICAL INC',\n",
       " 'HAMILTON BONADUZ AG': 'HAMILTON BONADUZ AG',\n",
       " 'HANCOCK/JAFFE LABORATORIES, INC.': 'HANCOCK/JAFFE LABORATORIES, INC.',\n",
       " 'HDC CORP.': 'HDC CORP.',\n",
       " 'HEART TECHNOLOGY, INC': 'HEART TECHNOLOGY, INC',\n",
       " 'HEART VALVES SANTA ANA': 'HEART VALVES SANTA ANA',\n",
       " 'HEARTPORT, INC.': 'HEARTPORT, INC.',\n",
       " 'HEARTSINE TECHNOLOGIES LTD': 'HEARTSINE TECHNOLOGIES LTD',\n",
       " 'HEARTWARE': 'HEARTWARE',\n",
       " 'HEMI': 'HEMI',\n",
       " 'HEMOSENSE, INC.': 'HEMOSENSE, INC.',\n",
       " 'HEMOSPHERE, INC.': 'HEMOSPHERE, INC.',\n",
       " 'HERNIAMESH S.R.L.': 'HERNIAMESH S.R.L.',\n",
       " 'HILL-ROM CHARLESTON': 'HILL-ROM CHARLESTON',\n",
       " 'HILL-ROM DE MEXICO S DE RL DE CV': 'HILL-ROM DE MEXICO S DE RL DE CV',\n",
       " 'HILL-ROM INC': 'HILL-ROM INC',\n",
       " 'HILL-ROM PLUVIGNER': 'HILL-ROM PLUVIGNER',\n",
       " 'HILL-ROM RITTER': 'HILL-ROM RITTER',\n",
       " 'HILLROM': 'HILLROM',\n",
       " 'HL CORP. (SHENZHEN)': 'HL CORP. (SHENZHEN)',\n",
       " 'HOLOGIC': 'HOLOGIC',\n",
       " 'HOLOGIC, INC.': 'HOLOGIC',\n",
       " 'HORIZON MEDICAL PRODUCTS': 'HORIZON MEDICAL PRODUCTS',\n",
       " 'HOSPIRA': 'HOSPIRA',\n",
       " 'HOSPIRA WORLDWIDE, INC': 'HOSPIRA',\n",
       " 'HOWMEDICA INC.': 'HOWMEDICA INC.',\n",
       " 'HOYA SURGICAL OPTICS INC.': 'HOYA SURGICAL OPTICS INC.',\n",
       " 'I-FLOW CORP.': 'I-FLOW CORP.',\n",
       " 'I-FLOW CORPORATION': 'I-FLOW CORPORATION',\n",
       " 'IDS MFG LIMITED': 'IDS MFG LIMITED',\n",
       " 'IMAGE DIAGNOSTICS, INC.': 'IMAGE DIAGNOSTICS, INC.',\n",
       " 'IMPAC MEDICAL SYSTEMS, INC.': 'IMPAC MEDICAL SYSTEMS, INC.',\n",
       " 'IMPACT PRODUCTS': 'IMPACT PRODUCTS',\n",
       " 'INAMED': 'INAMED',\n",
       " 'INAMED CORPORATION (FREMONT)': 'INAMED',\n",
       " 'INFUS MEDICAL (THAILAND) CO., LTD': 'INFUS MEDICAL (THAILAND) CO., LTD',\n",
       " 'INNOVATIVE PRODUCTS': 'INNOVATIVE PRODUCTS',\n",
       " 'INSTEAD, INC': 'INSTEAD, INC',\n",
       " 'INSTITUTE STRAUMANN AG': 'INSTITUTE STRAUMANN AG',\n",
       " 'INSULET CORPORATION': 'INSULET CORPORATION',\n",
       " 'INTEGRA LIFESCIENCES CORPORATION OH/USA': 'INTEGRA LIFESCIENCES CORPORATION OH/USA',\n",
       " 'INTEGRA NEUROCARE LLC': 'INTEGRA NEUROCARE LLC',\n",
       " 'INTEGRA NEUROSCIENCES IMPLANTS S.A.': 'INTEGRA NEUROSCIENCES IMPLANTS S.A.',\n",
       " 'INTEGRA YORK, PA INC.': 'INTEGRA YORK, PA INC.',\n",
       " 'INTEGRA, CINCINNATI': 'INTEGRA, CINCINNATI',\n",
       " 'INTERNATIONAL TECHNIDYNE CORP.': 'INTERNATIONAL TECHNIDYNE CORP.',\n",
       " 'INTERPORE CROSS INTL.': 'INTERPORE CROSS INTL.',\n",
       " 'INTERVENTIONAL TECHNOLOGIES, INC.': 'INTERVENTIONAL TECHNOLOGIES, INC.',\n",
       " 'INTRALASE CORP.': 'INTRALASE CORP.',\n",
       " 'INTUITIVE SURGICAL, INC': 'INTUITIVE SURGICAL, INC',\n",
       " 'INVACARE CLEVELAND STREET': 'INVACARE CLEVELAND STREET',\n",
       " 'INVACARE CORP.': 'INVACARE CORP.',\n",
       " 'INVACARE FLORIDA OPERATIONS': 'INVACARE FLORIDA OPERATIONS',\n",
       " 'INVACARE REHABILITATION EQUIP': 'INVACARE REHABILITATION EQUIP',\n",
       " 'INVACARE SUZHOU': 'INVACARE SUZHOU',\n",
       " 'INVACARE TAYLOR STREET': 'INVACARE TAYLOR STREET',\n",
       " 'INVAMEX': 'INVAMEX',\n",
       " 'INVERNESS CORP.': 'INVERNESS CORP.',\n",
       " 'INVERNESS MEDICAL, INC.': 'INVERNESS MEDICAL, INC.',\n",
       " 'IPG MFG SWITZERLAND': 'IPG MFG SWITZERLAND',\n",
       " 'IRIS INTERNATIONAL': 'IRIS INTERNATIONAL',\n",
       " 'IVAC CORPORATION': 'IVAC CORPORATION',\n",
       " 'J&J': 'J&J',\n",
       " 'JAEYONG': 'JAEYONG',\n",
       " 'JIANGSU YUYUE MEDICAL EQUIPMENT & SUPPLY CO., LTD': 'JIANGSU YUYUE MEDICAL EQUIPMENT & SUPPLY CO., LTD',\n",
       " 'JOHNSON & JOHNSON MEDICAL': '3006356043 JOHNSON & JOHNSON MEDICAL',\n",
       " 'JOHNSON & JOHNSON PRODUCTS': 'JOHNSON & JOHNSON PRODUCTS',\n",
       " 'JOHNSON & JOHNSON PROFESSIONAL, INC., MEDOS S.A.': 'JOHNSON & JOHNSON PROFESSIONAL, INC., MEDOS S.A.',\n",
       " 'JOHNSON & JOHNSON VISION CARE, INC. ? IRELAND': 'JOHNSON & JOHNSON VISION CARE, INC. ? IRELAND',\n",
       " 'JOHNSON AND JOHNSON MEDICAL, INC.': 'JOHNSON AND JOHNSON MEDICAL, INC.',\n",
       " 'JUMAO MEDICAL EQUIPMENT': 'JUMAO MEDICAL EQUIPMENT',\n",
       " 'K2M, INC.': 'K2M, INC.',\n",
       " 'KARL STORZ': 'KARL STORZ',\n",
       " 'KARL STORZ GMBH & CO. KG': 'KARL STORZ',\n",
       " 'KARL STORZ GMBH & CO. KG TUTTLINGEN, GERMANY': 'KARL STORZ',\n",
       " 'KCI USA INC.': 'KCI USA INC.',\n",
       " 'KENDALL': 'KENDALL',\n",
       " 'KENSTONE METAL': 'KENSTONE METAL',\n",
       " 'KERR CORPORATION': 'KERR CORPORATION',\n",
       " 'KIMBERLY-CLARK CORPORATION - CONWAY MILL': 'KIMBERLY-CLARK CORPORATION - CONWAY MILL',\n",
       " 'KIMBERLY-CLARK HEALTH CARE': 'KIMBERLY-CLARK HEALTH CARE',\n",
       " 'KINETIKOS MEDICAL, INC.': 'KINETIKOS MEDICAL, INC.',\n",
       " 'KING SYSTEMS CORPORATION': 'KING SYSTEMS CORPORATION',\n",
       " 'KIRSCHNER': 'KIRSCHNER',\n",
       " 'LACEY MANUFACTURING CO.': 'LACEY MANUFACTURING CO.',\n",
       " 'LACEY MFG CO.': 'LACEY MFG CO.',\n",
       " 'LAERDAL MEDICAL, A.S.': 'LAERDAL MEDICAL, A.S.',\n",
       " 'LAND AMERICA HEALTH & FITNESS': 'LAND AMERICA HEALTH & FITNESS',\n",
       " 'LEIBINGER': 'LEIBINGER',\n",
       " 'LIEBEL-FLARSHEIM CO.': 'LIEBEL-FLARSHEIM CO.',\n",
       " 'LIFECORE BIOMEDICAL, INC.': 'LIFECORE BIOMEDICAL, INC.',\n",
       " 'LIFESCAN EUROPE, A DIVISION OF CILAG GMBH INTL': 'LIFESCAN EUROPE, A DIVISION OF CILAG GMBH INTL',\n",
       " 'LIFESCAN INC.': 'LIFESCAN INC.',\n",
       " 'LIKO AB': 'LIKO AB',\n",
       " 'LINVATEC CORP.': 'LINVATEC CORP.',\n",
       " 'LUMENIS (ISRAEL)': 'LUMENIS (ISRAEL)',\n",
       " 'MAERSK MEDICAL A/S': 'MAERSK MEDICAL A/S',\n",
       " 'MANSFIELD MANUFACTURING SITE': 'MANSFIELD MANUFACTURING SITE',\n",
       " 'MAQUET CARDIOPULMONARY AG': 'MAQUET CARDIOPULMONARY AG',\n",
       " 'MAQUET CARDIOVASCULAR': 'MAQUET CARDIOVASCULAR',\n",
       " 'MAQUET CRITICAL CARE AB': 'MAQUET CRITICAL CARE AB',\n",
       " 'MAQUET CV': 'MAQUET CV',\n",
       " 'MASIMO CORPORATION': 'MASIMO CORPORATION',\n",
       " 'MAST BIOSURGERY': 'MAST BIOSURGERY',\n",
       " 'MAXHEALTH CORP.': 'MAXHEALTH CORP.',\n",
       " 'MAXXIM MEDICAL': 'MAXXIM MEDICAL',\n",
       " 'MCGHAN MEDICAL CORP': 'MCGHAN MEDICAL CORP',\n",
       " 'MCGHAN MEDICAL CORP.': 'MCGHAN MEDICAL CORP',\n",
       " 'MCKINLEY MEDICAL LLLP': 'MCKINLEY MEDICAL LLLP',\n",
       " 'MDT POWERED SURGICAL SOLUTIONS': 'MDT POWERED SURGICAL SOLUTIONS',\n",
       " 'MDT PUERTO RICO OPERATIONS CO': 'MDT PUERTO RICO OPERATIONS CO',\n",
       " 'MED COMP': 'MED COMP',\n",
       " 'MED-EL ELEKTROMEDIZINISCHE GERAETE GMBH': 'MED-EL ELEKTROMEDIZINISCHE GERAETE GMBH',\n",
       " 'MED-EL ELEKTROMEDIZINISCHE GERAETE, GMBH': 'MED-EL ELEKTROMEDIZINISCHE GERAETE GMBH',\n",
       " 'MEDACTA INTERNATIONAL SA': 'MEDACTA INTERNATIONAL SA',\n",
       " 'MEDCOMP': 'MEDCOMP',\n",
       " 'MEDEL S.P.A.': 'MEDEL S.P.A.',\n",
       " 'MEDELA, INC': 'MEDELA, INC',\n",
       " 'MEDEX': 'MEDEX',\n",
       " 'MEDI-TECH': 'MEDI-TECH',\n",
       " 'MEDIBO N.V.': 'MEDIBO N.V.',\n",
       " 'MEDICAL COMPONENTS, INC.': 'MEDICAL COMPONENTS, INC.',\n",
       " 'MEDICAL ENGINEERING CORP.': 'MEDICAL ENGINEERING CORP.',\n",
       " 'MEDICAL SPECIALTIES': 'MEDICAL SPECIALTIES',\n",
       " 'MEDISYSTEMS': 'MEDISYSTEMS',\n",
       " 'MEDIVATORS INC.': 'MEDIVATORS INC.',\n",
       " 'MEDIVATORS REPROCESSING SYSTEMS, DIV. OF MINNTECH': 'MEDIVATORS REPROCESSING SYSTEMS, DIV. OF MINNTECH',\n",
       " 'MEDLINE INDUSTRIES, INC.': 'MEDLINE INDUSTRIES, INC.',\n",
       " 'MEDRAD': 'MEDRAD',\n",
       " 'MEDRAD, INC.': 'MEDRAD',\n",
       " 'MEDTRONIC': 'MEDTRONIC',\n",
       " 'MEDTRONIC AVE PERIPHERAL DIV.': 'MEDTRONIC',\n",
       " 'MEDTRONIC AVE, INC.': 'MEDTRONIC',\n",
       " 'MEDTRONIC CARDIOVASCULAR': 'MEDTRONIC',\n",
       " 'MEDTRONIC CARDIOVASCULAR GALWAY': 'MEDTRONIC',\n",
       " 'MEDTRONIC CARDIOVASCULAR SANTA ROSA': 'MEDTRONIC',\n",
       " 'MEDTRONIC IN-STENT': 'MEDTRONIC',\n",
       " 'MEDTRONIC NEUROLOGICAL': 'MEDTRONIC',\n",
       " 'MEDTRONIC PUERTO RICO OPERATIONS CO., MEDREL': 'MDT PUERTO RICO OPERATIONS CO',\n",
       " 'MEDTRONIC PUERTO RICO OPERATIONS MEL-REL': 'MEDTRONIC',\n",
       " 'MEDTRONIC SOFAMOR DANEK USA, INC': 'MEDTRONIC',\n",
       " 'MEDTRONIC SOFAMOR DANEK USA, INC.': 'MEDTRONIC',\n",
       " 'MEDTRONIC SPINE LLC': 'MEDTRONIC',\n",
       " 'MEDTRONIC VASCULAR': 'MEDTRONIC',\n",
       " 'MEDTRONIC, INC., NEUROLOGICAL DIVISION': 'MEDTRONIC',\n",
       " 'MENTOR CORP.': 'MENTOR CORP.',\n",
       " 'MENTOR H/S, INC.': 'MENTOR H/S, INC.',\n",
       " 'MENTOR UROLOGY, INC.': 'MENTOR UROLOGY, INC.',\n",
       " 'MENTOR WORLDWIDE LLC': 'MENTOR WORLDWIDE LLC',\n",
       " 'MERCURY MEDICAL': 'MERCURY MEDICAL',\n",
       " 'MERIT MEDICAL SYSTEMS, INC': 'MERIT MEDICAL SYSTEMS, INC',\n",
       " 'MERZ AESTHETICS, INC.': 'MERZ AESTHETICS, INC.',\n",
       " 'MERZ AESTHETICS, INC. (FORMERLY BIOFORM MEDICAL, INC.)': 'MERZ AESTHETICS, INC.',\n",
       " 'MERZ NORTH AMERICA, INC.': 'MERZ NORTH AMERICA, INC.',\n",
       " 'MICROPORT ORTHOPEDICS INC.': 'MICROPORT ORTHOPEDICS INC.',\n",
       " 'MICROTYPING SYSTEMS': 'MICROTYPING SYSTEMS',\n",
       " 'MICROVENA CORP.': 'MICROVENA CORP.',\n",
       " 'MILTEX INSTRUMENT CO., INC.': 'MILTEX INSTRUMENT CO., INC.',\n",
       " 'MINDRAY DS USA, INC': 'MINDRAY DS USA, INC',\n",
       " 'MINIMED INC': 'MINIMED INC',\n",
       " 'MINIMED TECHNOLOGIES': 'MINIMED TECHNOLOGIES',\n",
       " 'MOOG DEVICE GROUP': 'MOOG DEVICE GROUP',\n",
       " 'MOOG MEDICAL DEVICES GROUP': 'MOOG MEDICAL DEVICES GROUP',\n",
       " 'MOUNTAIN HOME': 'MOUNTAIN HOME',\n",
       " 'MPRI': 'MPRI',\n",
       " 'MUSCULOSKELETAL TRANSPLANT FOUNDATION': 'MUSCULOSKELETAL TRANSPLANT FOUNDATION',\n",
       " 'NAVILYST MEDICAL': 'NAVILYST MEDICAL',\n",
       " 'NELLCOR PURITAN BENNETT, INC.': 'NELLCOR PURITAN BENNETT, INC.',\n",
       " 'NEPHRON PHARMACEUTICALS CORP.': 'NEPHRON PHARMACEUTICALS CORP.',\n",
       " 'NEURO - VILLALBA': 'NEURO - VILLALBA',\n",
       " 'NEUROLOGICAL DIVISION, MEDTRONIC, INC.': 'MEDTRONIC',\n",
       " 'NEUROVASCULAR DIV, BOSTON SCIENTIFIC CORP': 'BOSTON SCIENTIFIC',\n",
       " 'NEUROVASCULAR DIVISION, BOSTON SCIENTIFIC CORP': 'BOSTON SCIENTIFIC',\n",
       " 'NEUROVASCULAR, A DIV OF BOSTON SCIENTIFIC CORP.': 'BOSTON SCIENTIFIC',\n",
       " 'NEWPORT MEDICAL INSTRUMENTS, INC.': 'NEWPORT MEDICAL INSTRUMENTS, INC.',\n",
       " 'NI': 'NI',\n",
       " 'NIPRO CORPORATION': 'NIPRO CORPORATION',\n",
       " 'NIPRO DIAGNOSTICS, INC.': 'NIPRO DIAGNOSTICS, INC.',\n",
       " 'NISSHO': 'NISSHO',\n",
       " 'NITINOL MEDICAL TECHNOLOGIES, INC.': 'NITINOL MEDICAL TECHNOLOGIES, INC.',\n",
       " 'NOBEL BIOCARE': 'NOBEL BIOCARE',\n",
       " 'NOBEL BIOCARE AB': 'NOBEL BIOCARE',\n",
       " 'NOBELPHARMA AB': 'NOBELPHARMA AB',\n",
       " 'NORTH HAVEN - USS': 'NORTH HAVEN - USS',\n",
       " 'NOVA BIOMEDICAL CORP': 'NOVA BIOMEDICAL CORP',\n",
       " 'NOVA BIOMEDICAL CORPORATION': 'NOVA BIOMEDICAL CORPORATION',\n",
       " 'NUMED, INC.': 'NUMED, INC.',\n",
       " 'NXSTAGE MEDICAL, INC.': 'NXSTAGE MEDICAL, INC.',\n",
       " 'OBTECH MEDICAL SARL_': 'OBTECH MEDICAL SARL_',\n",
       " 'OHIO MEDICAL INSTRUMENT': 'OHIO MEDICAL INSTRUMENT',\n",
       " 'OLYMPUS MEDICAL SYSTEM CORP.': 'OLYMPUS MEDICAL SYSTEM CORP.',\n",
       " 'OLYMPUS MEDICAL SYSTEM CORPORATION': 'OLYMPUS MEDICAL SYSTEM CORPORATION',\n",
       " 'OLYMPUS SPINAL TECHNOLOGIES': 'OLYMPUS SPINAL TECHNOLOGIES',\n",
       " 'ONUX MEDICAL, INC.': 'ONUX MEDICAL, INC.',\n",
       " 'ORIDION -RX': 'ORIDION -RX',\n",
       " 'ORMCO CORPORATION': 'ORMCO CORPORATION',\n",
       " 'ORTHO-CLINICAL DIAGNOSTICS': 'ORTHO-CLINICAL DIAGNOSTICS',\n",
       " 'OSCOR INC.': 'OSCOR INC.',\n",
       " 'P.T. CIBA VISION BATAM': 'P.T. CIBA VISION BATAM',\n",
       " 'PACESETTER INC.': 'PACESETTER INC.',\n",
       " 'PEAK SURGICAL, INC.': 'PEAK SURGICAL, INC.',\n",
       " 'PENUMBRA, INC.': 'PENUMBRA, INC.',\n",
       " 'PERCLOSE, INC.': 'PERCLOSE, INC.',\n",
       " 'PHARMACEUTICAL INNOVATIONS, INC': 'PHARMACEUTICAL INNOVATIONS, INC',\n",
       " 'PHARMALOGIC': 'PHARMALOGIC',\n",
       " 'PHILIPS HEALTHCARE': 'PHILIPS HEALTHCARE',\n",
       " 'PHILIPS MED SYSTEMS': 'PHILIPS MED SYSTEMS',\n",
       " 'PHILIPS MEDICAL CORPORATION': 'PHILIPS MEDICAL CORPORATION',\n",
       " 'PHILIPS MEDICAL SYSTEMS': 'PHILIPS MEDICAL SYSTEMS',\n",
       " 'PHILIPS RESPIRONICS -CHMV': 'PHILIPS RESPIRONICS -CHMV',\n",
       " 'PHYSIO-CONTROL, INC': 'PHYSIO-CONTROL, INC',\n",
       " 'PILLING INSTRUMENT CO.': 'PILLING INSTRUMENT CO.',\n",
       " 'PIONEER SURGICAL TECHNOLOGY': 'PIONEER SURGICAL TECHNOLOGY',\n",
       " 'PIP AMERICA': 'PIP AMERICA',\n",
       " 'PLEXUS MANUFACTURING SDN. BHD': 'PLEXUS MANUFACTURING SDN. BHD',\n",
       " 'POLU-FLEX CIRCUITS, LTD': 'POLU-FLEX CIRCUITS, LTD',\n",
       " 'PONCE - USS': 'PONCE - USS',\n",
       " 'POPULAR PLASTICS': 'POPULAR PLASTICS',\n",
       " 'POSSIS MEDICAL INC.': 'POSSIS MEDICAL INC.',\n",
       " 'POSSIS MEDICAL, INC.': 'POSSIS MEDICAL INC.',\n",
       " 'PRECISION MEDICAL, INC.': 'PRECISION MEDICAL, INC.',\n",
       " 'PRIDE HEALTH CARE, INC.': 'PRIDE HEALTH CARE, INC.',\n",
       " 'PRIDE MOBILITY PRODUCTS': 'PRIDE MOBILITY PRODUCTS',\n",
       " 'PULMONETIC SYSTEMS, INC.': 'PULMONETIC SYSTEMS, INC.',\n",
       " 'PURITAN BENNETT CORP': 'PURITAN BENNETT CORP',\n",
       " 'Q CORE MEDICAL LTD.': 'Q CORE MEDICAL LTD.',\n",
       " 'Q-MED AB': 'Q-MED AB',\n",
       " 'QUEST MEDICAL, INC.': 'QUEST MEDICAL, INC.',\n",
       " 'QUICKIE DESIGNS INC.': 'QUICKIE DESIGNS INC.',\n",
       " 'RANIR, LLC.': 'RANIR, LLC.',\n",
       " 'RAYNER INTRAOCULAR LENSES LTD.': 'RAYNER INTRAOCULAR LENSES LTD.',\n",
       " 'RESMED LTD.': 'RESMED LTD.',\n",
       " 'RESPIRONICS CALIFORNIA, INC': 'RESPIRONICS CALIFORNIA, INC',\n",
       " 'REYNOSA MANUFACTURING': 'REYNOSA MANUFACTURING',\n",
       " 'RICE CREEK MANUFACTURING': 'RICE CREEK MANUFACTURING',\n",
       " 'RICE CREEK MFG': 'RICE CREEK MFG',\n",
       " 'RICHARD-ALLAN MED. IND., INC.': 'RICHARD-ALLAN MED. IND., INC.',\n",
       " 'ROCHE DIABETES CARE AG': 'ROCHE DIABETES CARE AG',\n",
       " 'ROCHE DIAGNOSTICS': 'ROCHE DIAGNOSTICS',\n",
       " 'ROCHE HEALTH SOLUTIONS, INC.': 'ROCHE HEALTH SOLUTIONS, INC.',\n",
       " 'ROCHE INSTRUMENT CENTER AG': 'ROCHE INSTRUMENT CENTER AG',\n",
       " 'ROCHE INSULIN DELIVERY SYSTEMS INC.': 'ROCHE INSULIN DELIVERY SYSTEMS INC.',\n",
       " 'ROSS PRODUCTS DIVISION': 'ROSS PRODUCTS DIVISION',\n",
       " 'S.A. ALCON-COUVREUR N.V., ALCON BELGIUM': 'ALCON - BELGIUM / S.A. - ALCON-COUVREUR N.V.',\n",
       " 'SANTO DOMINGO - USS': 'SANTO DOMINGO - USS',\n",
       " 'SCHNEIDER (EUROPE) AG': 'SCHNEIDER (EUROPE) AG',\n",
       " 'SCIMED LIFE SYSTEMS, INC.': 'SCIMED LIFE SYSTEMS, INC.',\n",
       " 'SEAMED CORP.': 'SEAMED CORP.',\n",
       " 'SEASPINE, INC.': 'SEASPINE, INC.',\n",
       " 'SECHRIST INDUSTRIES, INC.': 'SECHRIST INDUSTRIES, INC.',\n",
       " 'SECURE CARE PRODUCTS': 'SECURE CARE PRODUCTS',\n",
       " 'SENSORMEDICS CORP.': 'SENSORMEDICS CORP.',\n",
       " 'SHARP CORPORATION OSAKA JAPAN': 'SHARP CORPORATION OSAKA JAPAN',\n",
       " 'SHERWOOD': 'SHERWOOD',\n",
       " 'SHUNLONG PHYSICAL THERAPY EQUIPMENT': 'SHUNLONG PHYSICAL THERAPY EQUIPMENT',\n",
       " 'SIEMENS HEALTHCARE DIAGNOSTICS': 'SIEMENS HEALTHCARE DIAGNOSTICS',\n",
       " 'SIEMENS-ELEMA AB LIFE SUPPORT SYSTEMS DIV': 'SIEMENS-ELEMA AB LIFE SUPPORT SYSTEMS DIV',\n",
       " 'SIGN FRACTURE CARE INTERNATIONAL': 'SIGN FRACTURE CARE INTERNATIONAL',\n",
       " 'SITE-MICROSURGICAL SYSTEMS, INC.': 'SITE-MICROSURGICAL SYSTEMS, INC.',\n",
       " 'SIZEWISE': 'SIZEWISE',\n",
       " 'SKILLMAN CONTRACT': 'SKILLMAN CONTRACT',\n",
       " 'SMITH & NEPHEW': 'SMITH & NEPHEW',\n",
       " 'SMITH & NEPHEW INC. ENDOSCOPY DIVISION': 'SMITH & NEPHEW',\n",
       " 'SMITH & NEPHEW INC., ORTHOPAEDIC DIV.': 'SMITH & NEPHEW',\n",
       " 'SMITH & NEPHEW ORTHOPAEDICS LTD': 'SMITH & NEPHEW',\n",
       " 'SMITH & NEPHEW ORTHOPAEDICS, LTD.': 'SMITH & NEPHEW',\n",
       " 'SMITH & NEPHEW, INC.': 'SMITH & NEPHEW',\n",
       " 'SMITH & NEPHEW, INC., BROOKS MANUFACTURING SITE': 'SMITH & NEPHEW',\n",
       " 'SMITH & NEPHEW, INC., ORTHOPAEDIC AG': 'SMITH & NEPHEW',\n",
       " 'SMITH & NEPHEW, INC., ORTHOPAEDIC DIV.': 'SMITH & NEPHEW',\n",
       " 'SMITH AND NEPHEW WOUND MANAGEMENT': 'SMITH & NEPHEW',\n",
       " 'SMITH&NEPHEW - SWITZERLAND': 'SMITH & NEPHEW',\n",
       " 'SMITH&NEPHEW, INC': 'SMITH & NEPHEW',\n",
       " \"SMITH'S MEDICAL\": \"SMITH'S MEDICAL\",\n",
       " 'SMITHS MEDICAL': 'SMITHS MEDICAL',\n",
       " 'SMITHS MEDICAL MD (FORMERLY DELTC, INC.)': 'SMITHS MEDICAL',\n",
       " 'SMITHS MEDICAL MD (FORMERLY DELTEC, INC)': 'DELTEC',\n",
       " 'SMV AMERICA': 'SMV AMERICA',\n",
       " 'SOFAMOR DANEK DEGGENDORF GMBH': 'SOFAMOR DANEK DEGGENDORF GMBH',\n",
       " 'SOFRADIM PRODUCTION': 'SOFRADIM PRODUCTION',\n",
       " 'SORIN BIOMEDICA C.R.M': 'SORIN BIOMEDICA C.R.M',\n",
       " 'SORIN BIOMEDICA CRM S.R.L.': 'SORIN BIOMEDICA CRM S.R.L.',\n",
       " 'SORIN CRM': 'SORIN BIOMEDICA CRM S.R.L.',\n",
       " 'SORIN GROUP CANADA INC. MITROFLOW DIVISION': 'SORIN GROUP CANADA INC. MITROFLOW DIVISION',\n",
       " 'SORIN GROUP DEUTSCHLAND': 'SORIN GROUP DEUTSCHLAND',\n",
       " 'SPECIALIZED MEDICAL DEVICES': 'SPECIALIZED MEDICAL DEVICES',\n",
       " 'SPINAL ELEMENTS, INC.': 'SPINAL ELEMENTS, INC.',\n",
       " 'ST JUDE MED - NEUROMODULATION': 'ST JUDE MED - NEUROMODULATION',\n",
       " 'ST JUDE MEDICAL - NEUROMODULATION': 'ST JUDE MED - NEUROMODULATION',\n",
       " 'ST JUDE MEDICAL CARDIAC RHYTHM MANAGEMENT DIVISION': 'ST JUDE MEDICAL CARDIAC RHYTHM MANAGEMENT DIVISION',\n",
       " 'ST JUDE MEDICAL, DAIG DIVISION': 'ST JUDE MEDICAL CARDIAC RHYTHM MANAGEMENT DIVISION',\n",
       " 'ST JUDE MEDICAL, NEUROMODULATION': 'ST JUDE MED - NEUROMODULATION',\n",
       " 'ST. JUDE MEDICAL': 'ST JUDE MEDICAL CARDIAC RHYTHM MANAGEMENT DIVISION',\n",
       " 'ST. JUDE MEDICAL INC. CRMD': 'ST. JUDE MEDICAL INC. CRMD',\n",
       " 'ST. JUDE MEDICAL NEUROMODULATION': 'ST JUDE MED - NEUROMODULATION',\n",
       " 'ST. JUDE MEDICAL NEUROMODULATION SYSTEMS': 'ST JUDE MED - NEUROMODULATION',\n",
       " 'ST. JUDE MEDICAL PUERTO RICO, INC. (CS)': 'ST. JUDE MEDICAL PUERTO RICO, INC. (CS)',\n",
       " 'ST. JUDE MEDICAL, DAIG DIVISION, INC.': 'ST. JUDE MEDICAL, DAIG DIVISION, INC.',\n",
       " 'ST. JUDE MEDICAL, INC.': 'ST. JUDE MEDICAL INC. CRMD',\n",
       " 'ST. JUDE MEDICAL, INC. (AF-IRVINE)': 'ST. JUDE MEDICAL, INC. (AF-IRVINE)',\n",
       " 'ST. JUDE MEDICAL, INC. (CRM-KISTA)': 'ST. JUDE MEDICAL, INC. (CRM-KISTA)',\n",
       " 'ST. JUDE MEDICAL, INC.(CRM-SUNNYVALE)': 'ST. JUDE MEDICAL, INC.(CRM-SUNNYVALE)',\n",
       " 'ST. JUDE MEDICAL, INC.(CRM-SYLMAR)': 'ST. JUDE MEDICAL, INC.(CRM-SYLMAR)',\n",
       " 'ST. JUDE MEDICAL, INC.CRMD': 'ST. JUDE MEDICAL INC. CRMD',\n",
       " 'STAAR JAPAN INC.': 'STAAR JAPAN INC.',\n",
       " 'STAAR SURGICAL': 'STAAR SURGICAL',\n",
       " 'STEMCUP MEDICAL PRODUCTS AG': 'STEMCUP MEDICAL PRODUCTS AG',\n",
       " 'STEREOTAXIS, INC.': 'STEREOTAXIS, INC.',\n",
       " 'STERI-OSS, INC.': 'STERI-OSS, INC.',\n",
       " 'STERIS CANADA CORPORATION': 'STERIS CANADA CORPORATION',\n",
       " 'STERIS CORP - MONTGOMERY': 'STERIS CORP - MONTGOMERY',\n",
       " 'STERIS CORPORATION - HOPKINS': 'STERIS CORPORATION - HOPKINS',\n",
       " 'STERIS CORPORATION - MONTGOMERY': 'STERIS CORPORATION - MONTGOMERY',\n",
       " 'STIHLER ELECTRONIC GMBH': 'STIHLER ELECTRONIC GMBH',\n",
       " 'STOCKERT GMBH': 'STOCKERT GMBH',\n",
       " 'STORZ INSTRUMENT CO.': 'STORZ INSTRUMENT CO.',\n",
       " 'STRATO MED. CORP.': 'STRATO MED. CORP.',\n",
       " 'STRYKER': 'STRYKER',\n",
       " 'STRYKER LEIBINGER': 'LEIBINGER',\n",
       " 'STRYKER NEUROVASCULAR CORK': 'STRYKER',\n",
       " 'STRYKER ORTHOPAEDICS CORK': 'STRYKER',\n",
       " 'STRYKER ORTHOPAEDICS LIMERICK': 'STRYKER',\n",
       " 'STRYKER TRAUMA KIEL': 'STRYKER',\n",
       " 'SULZER CALCITEK': 'CALCITEK',\n",
       " 'SULZER INTERMEDICS INC.': 'SULZER INTERMEDICS INC.',\n",
       " 'SULZER VASCUTEK LTD.': 'SULZER VASCUTEK LTD.',\n",
       " 'SUNBEAM PRODUCTS, INC., DBA JARDEN CONSUMER SOLUTI': 'SUNBEAM PRODUCTS, INC., DBA JARDEN CONSUMER SOLUTI',\n",
       " 'SUNRISE MEDICAL HHG, INC. PCP (HOYER) DIVISION': 'SUNRISE MEDICAL HHG, INC. PCP (HOYER) DIVISION',\n",
       " 'SUNRISE MEDICAL MPD': 'SUNRISE MEDICAL MPD',\n",
       " 'SUPERDIMENSION, INC': 'SUPERDIMENSION, INC',\n",
       " 'SURETEX LTD': 'SURETEX LTD',\n",
       " 'SURGICAL SPECIALTIES PUERTO RICO INC.': 'SURGICAL SPECIALTIES PUERTO RICO INC.',\n",
       " 'SYNOVIS SURGICAL INNOVATIONS': 'SYNOVIS SURGICAL INNOVATIONS',\n",
       " 'SYNTHES (USA)': 'SYNTHES (USA)',\n",
       " 'SYNTHES - MONUMENT': 'SYNTHES - MONUMENT',\n",
       " 'SYNTHES BETTLACH': 'SYNTHES BETTLACH',\n",
       " 'SYNTHES BRANDYWINE': 'SYNTHES BRANDYWINE',\n",
       " 'SYNTHES GMBH': 'SYNTHES GMBH',\n",
       " 'SYNTHES HAGENDORF': 'SYNTHES HAGENDORF',\n",
       " 'SYNTHES MEZZOVICO': 'SYNTHES MEZZOVICO',\n",
       " 'SYNTHES OBERDORF': 'SYNTHES OBERDORF',\n",
       " 'SYNTHES SELZACH': 'SYNTHES SELZACH',\n",
       " 'SYNTHES STRATEC': 'SYNTHES STRATEC',\n",
       " 'SYNTHES TUTTLINGEN': 'SYNTHES TUTTLINGEN',\n",
       " 'SYNTHES WEST CHESTER': 'SYNTHES WEST CHESTER',\n",
       " 'SYNTHES, USA': 'SYNTHES (USA)',\n",
       " 'TAEWOONG MEDICAL CO., LTD.': 'TAEWOONG MEDICAL CO., LTD.',\n",
       " 'TANDEM DIABETES CARE': 'TANDEM DIABETES CARE',\n",
       " 'TEI BIOSCIENCES INC.': 'TEI BIOSCIENCES INC.',\n",
       " 'TELECTRONICS': 'TELECTRONICS',\n",
       " 'TELECTRONICS PACING SYSTEMS': 'TELECTRONICS',\n",
       " 'TELECTRONICS PACING SYSTEMS INC': 'TELECTRONICS',\n",
       " 'TELEFLEX MEDICAL': 'TELEFLEX MEDICAL',\n",
       " 'TERUMO BCT': 'TERUMO BCT',\n",
       " 'TERUMO CARDIOVASCULAR SYSTEM CORP.': 'TERUMO CARDIOVASCULAR SYSTEM CORP.',\n",
       " 'TERUMO CORP. ASHITAKA FACTORY': 'ASHITAKA FACTORY OF TERUMO CORP.',\n",
       " 'TERUMO MEDICAL CORPORATION': 'ATRIUM MEDICAL CORPORATION',\n",
       " 'THE ANSPACH EFFORT, INC.': 'THE ANSPACH EFFORT, INC.',\n",
       " 'THE ANTHROS MEDICAL GROUP': 'THE ANTHROS MEDICAL GROUP',\n",
       " 'THERAKOS': 'THERAKOS',\n",
       " 'THORATEC CORP.': 'THORATEC CORP.',\n",
       " 'THORATEC CORPORATION': 'THORATEC CORPORATION',\n",
       " 'THORATEC SWITZERLAND GMBH': 'THORATEC SWITZERLAND GMBH',\n",
       " 'TORAY INDUSTRIES': 'TORAY INDUSTRIES',\n",
       " 'TORNIER INC.': 'TORNIER INC.',\n",
       " 'TRANSMOTION MEDICAL INC.': 'TRANSMOTION MEDICAL INC.',\n",
       " 'TUTOGEN MEDICAL GMBH': 'TUTOGEN MEDICAL GMBH',\n",
       " 'TYCO': 'TYCO',\n",
       " 'U.S. SURGICAL CORP': 'U.S. SURGICAL CORP',\n",
       " 'UNITED STATES SURGICAL': 'UNITED STATES SURGICAL',\n",
       " 'UNITED STATES SURICAL CORPORATION': 'UNITED STATES SURICAL CORPORATION',\n",
       " 'UNK': 'UNK',\n",
       " 'UNKNOWN': 'UNKNOWN',\n",
       " 'UNOMEDICAL LTD': 'UNOMEDICAL LTD',\n",
       " 'UNOMEDICAL S.R.O.': 'UNOMEDICAL S.R.O.',\n",
       " 'USSC - AUTOSUTURE': 'USSC - AUTOSUTURE',\n",
       " 'USSC PUERTO RICO': 'USSC PUERTO RICO',\n",
       " 'V. MUELLER': 'V. MUELLER',\n",
       " 'VALLEYLAB': 'VALLEYLAB',\n",
       " 'VASCULAR SOLUTIONS': 'VASCULAR SOLUTIONS',\n",
       " 'VASCULAR SOLUTIONS, INC.': 'VASCULAR SOLUTIONS',\n",
       " 'VASCUTEK LIMITED': 'VASCUTEK LIMITED',\n",
       " 'VASPRO': 'VASPRO',\n",
       " 'VERATHON MEDICAL': 'VERATHON MEDICAL',\n",
       " 'VERATHON MEDICAL (CANADA) ULC.': 'VERATHON MEDICAL',\n",
       " 'VERTEBRAL TECHNOLOGIES INC.': 'VERTEBRAL TECHNOLOGIES INC.',\n",
       " 'VETCO, INC.': 'VETCO, INC.',\n",
       " 'W. L. GORE & ASSOCIATES': 'W. L. GORE & ASSOCIATES',\n",
       " 'W. L. GORE & ASSOCIATES, INC.': 'W. L. GORE & ASSOCIATES',\n",
       " 'W.L. GORE & ASSOCIATES': 'W. L. GORE & ASSOCIATES',\n",
       " 'W.L. GORE & ASSOCIATES, INC.': 'W. L. GORE & ASSOCIATES',\n",
       " 'WARSAW ORTHOPEDIC INC.': 'WARSAW ORTHOPEDIC INC.',\n",
       " 'WARSAW ORTHOPEDICS': 'WARSAW ORTHOPEDICS',\n",
       " 'WAVELIGHT GMBH': 'WAVELIGHT GMBH',\n",
       " 'WELCH ALLYN PROTOCOL, INC.': 'WELCH ALLYN PROTOCOL, INC.',\n",
       " 'WHIP-MIX CORP.': 'WHIP-MIX CORP.',\n",
       " 'WILLIAM COOK EUROPE': 'WILLIAM COOK EUROPE',\n",
       " 'WRIGHT MEDICAL TECHNOLOGY, INC': 'WRIGHT MEDICAL TECHNOLOGY, INC',\n",
       " 'ZIMMER': 'ZIMMER',\n",
       " 'ZIMMER GMBH': 'ZIMMER',\n",
       " 'ZIMMER INC': 'ZIMMER',\n",
       " 'ZIMMER MANUFACTURING B.V.': 'ZIMMER',\n",
       " 'ZIMMER ORTHOPAEDIC SURGICAL PRODUCTS': 'ZIMMER',\n",
       " 'ZIMMER PATIENT CARE DIVISION': 'ZIMMER',\n",
       " 'ZIMMER SPINE': 'ZIMMER',\n",
       " 'ZIMMER SURGICAL S.A.': 'ZIMMER',\n",
       " 'ZIMMER TMT': 'ZIMMER',\n",
       " 'ZOLL': 'ZOLL'}"
      ]
     },
     "execution_count": 993,
     "metadata": {},
     "output_type": "execute_result"
    }
   ],
   "source": [
    "clean_manufs(testset2)\n",
    "#make it clean_manufs(items, reps)"
   ]
  },
  {
   "cell_type": "code",
   "execution_count": 994,
   "metadata": {
    "collapsed": false
   },
   "outputs": [
    {
     "data": {
      "text/plain": [
       "774"
      ]
     },
     "execution_count": 994,
     "metadata": {},
     "output_type": "execute_result"
    }
   ],
   "source": [
    "len(reps)"
   ]
  },
  {
   "cell_type": "code",
   "execution_count": 995,
   "metadata": {
    "collapsed": true
   },
   "outputs": [],
   "source": [
    "errs=[]\n",
    "for index, item in enumerate(eventdf['manufacturer']):\n",
    "    try:\n",
    "        eventdf.loc[index, 'manufacturer'] = reps[item]\n",
    "    except KeyError:\n",
    "        errs.append(item)"
   ]
  },
  {
   "cell_type": "code",
   "execution_count": 874,
   "metadata": {
    "collapsed": false
   },
   "outputs": [
    {
     "data": {
      "text/plain": [
       "u'Unknown'"
      ]
     },
     "execution_count": 874,
     "metadata": {},
     "output_type": "execute_result"
    }
   ],
   "source": [
    "((dicts[1]['device'])[0]['openfda'])['medical_specialty_description']"
   ]
  },
  {
   "cell_type": "code",
   "execution_count": 997,
   "metadata": {
    "collapsed": false
   },
   "outputs": [
    {
     "data": {
      "text/plain": [
       "{'', '*'}"
      ]
     },
     "execution_count": 997,
     "metadata": {},
     "output_type": "execute_result"
    }
   ],
   "source": [
    "set(errs)"
   ]
  },
  {
   "cell_type": "code",
   "execution_count": 998,
   "metadata": {
    "collapsed": false
   },
   "outputs": [],
   "source": [
    "eventdf.to_csv(\"largesample.csv\")"
   ]
  },
  {
   "cell_type": "code",
   "execution_count": 895,
   "metadata": {
    "collapsed": true
   },
   "outputs": [],
   "source": [
    "pony = set(eventdf['generic_name'])"
   ]
  },
  {
   "cell_type": "code",
   "execution_count": 966,
   "metadata": {
    "collapsed": false
   },
   "outputs": [],
   "source": [
    "#sorted(pony)"
   ]
  },
  {
   "cell_type": "code",
   "execution_count": 39,
   "metadata": {
    "collapsed": false
   },
   "outputs": [],
   "source": [
    "count = 0\n",
    "for i in range(len(dicts)):\n",
    "    if dicts[i]['report_source_code'] == 'Voluntary report':\n",
    "        count += 1\n",
    "    \n",
    "    "
   ]
  },
  {
   "cell_type": "code",
   "execution_count": 76,
   "metadata": {
    "collapsed": false
   },
   "outputs": [
    {
     "ename": "NameError",
     "evalue": "name 'show' is not defined",
     "output_type": "error",
     "traceback": [
      "\u001b[0;31m---------------------------------------------------------------------------\u001b[0m",
      "\u001b[0;31mNameError\u001b[0m                                 Traceback (most recent call last)",
      "\u001b[0;32m<ipython-input-76-2efff7b56b10>\u001b[0m in \u001b[0;36m<module>\u001b[0;34m()\u001b[0m\n\u001b[1;32m     21\u001b[0m \u001b[0mp\u001b[0m\u001b[0;34m.\u001b[0m\u001b[0mtitle\u001b[0m \u001b[0;34m=\u001b[0m \u001b[0;34m\"Line and Bar\"\u001b[0m\u001b[0;34m\u001b[0m\u001b[0m\n\u001b[1;32m     22\u001b[0m \u001b[0;34m\u001b[0m\u001b[0m\n\u001b[0;32m---> 23\u001b[0;31m \u001b[0mshow\u001b[0m\u001b[0;34m(\u001b[0m\u001b[0mp\u001b[0m\u001b[0;34m)\u001b[0m\u001b[0;34m\u001b[0m\u001b[0m\n\u001b[0m",
      "\u001b[0;31mNameError\u001b[0m: name 'show' is not defined"
     ]
    }
   ],
   "source": [
    "\n",
    "p = figure(plot_width=400, plot_height=400)\n",
    "\n",
    "##output_file(\"line_bar.html\")\n",
    "\n",
    "# add a line renderer\n",
    "p.line([1, 2, 3, 4, 5], [6, 7, 6, 4, 5], line_width=2)\n",
    "\n",
    "# setting bar values\n",
    "h = np.array([2, 8, 5, 10, 7])\n",
    "\n",
    "# Correcting the bottom position of the bars to be on the 0 line.\n",
    "adj_h = h/2\n",
    "\n",
    "# add bar renderer\n",
    "p.rect(x=[1, 2, 3, 4, 5], y=adj_h, width=0.4, height=h, color=\"#CAB2D6\")\n",
    "\n",
    "# Setting the y  axis range   \n",
    "#p.y_range = Range1d(0, 12)\n",
    "\n",
    "p.title = \"Line and Bar\"\n",
    "\n",
    "show(p)"
   ]
  },
  {
   "cell_type": "code",
   "execution_count": 40,
   "metadata": {
    "collapsed": false
   },
   "outputs": [
    {
     "data": {
      "text/plain": [
       "116"
      ]
     },
     "execution_count": 40,
     "metadata": {},
     "output_type": "execute_result"
    }
   ],
   "source": [
    "count\n",
    "#this is 2.3% of events"
   ]
  },
  {
   "cell_type": "code",
   "execution_count": null,
   "metadata": {
    "collapsed": true
   },
   "outputs": [],
   "source": []
  },
  {
   "cell_type": "code",
   "execution_count": 893,
   "metadata": {
    "collapsed": false
   },
   "outputs": [],
   "source": [
    "#import bokeh\n",
    "#bokeh.__version__\n",
    "#from bokeh.charts import Line\n",
    "#from bokeh.plotting import output_file,show\n",
    "#adversedf.groupby(['manufacturer']).sum()\n",
    "#p = Bar(adversedf, label='num_people', values='manufacturer', agg='sum',\n",
    "#        title=\"Average MPG by YR\")\n",
    "\n",
    "#output_file(\"bar.html\")\n",
    "\n",
    "#show(p)"
   ]
  },
  {
   "cell_type": "code",
   "execution_count": 77,
   "metadata": {
    "collapsed": false
   },
   "outputs": [
    {
     "name": "stderr",
     "output_type": "stream",
     "text": [
      "ERROR:/Users/taftmphee/anaconda/lib/python2.7/site-packages/bokeh/core/validation/check.py:W-1001 (NO_DATA_RENDERERS): Plot has no data renderers: Figure, ViewModel:Plot, ref _id: 18b3140c-6e0b-4509-8a4e-b87f1f01019f\n"
     ]
    }
   ],
   "source": [
    "from collections import OrderedDict\n",
    "import numpy as np\n",
    "import pandas as pd\n",
    "from bokeh.charts import Line\n",
    "from bokeh.plotting import show, output_file\n",
    "from bokeh.charts import Chart, Line\n",
    "xyvalues = OrderedDict(\n",
    "    python=[2, 3, 7, 5, 26, 221, 44, 233, 254, 265, 266, 267, 120, 111],\n",
    "    pypy=[12, 33, 47, 15, 126, 121, 144, 233, 254, 225, 226, 267, 110, 130],\n",
    "    jython=[22, 43, 10, 25, 26, 101, 114, 203, 194, 215, 201, 227, 139, 160],\n",
    ")\n",
    "\n",
    "# any of the following commented are valid Line inputs\n",
    "xyvalues = pd.DataFrame(xyvalues)\n",
    "#xyvalues = xyvalues.values()\n",
    "#xyvalues = np.array(xyvalues.values())\n",
    "\n",
    "output_file(\"lines.html\", title=\"line.py example\")\n",
    "chart = Line(xyvalues, title=\"Lines\", ylabel='measures', legend=True)\n",
    "show(chart)"
   ]
  },
  {
   "cell_type": "code",
   "execution_count": 78,
   "metadata": {
    "collapsed": false
   },
   "outputs": [
    {
     "name": "stderr",
     "output_type": "stream",
     "text": [
      "ERROR:/Users/taftmphee/anaconda/lib/python2.7/site-packages/bokeh/core/validation/check.py:W-1001 (NO_DATA_RENDERERS): Plot has no data renderers: Figure, ViewModel:Plot, ref _id: 18b3140c-6e0b-4509-8a4e-b87f1f01019f\n"
     ]
    }
   ],
   "source": [
    "from bokeh.plotting import figure, output_file, show\n",
    "output_file(\"test.html\")\n",
    "p = figure()\n",
    "p.line([1, 2, 3, 4, 5], [6, 7, 2, 4, 5], line_width=2)\n",
    "show(p)\n"
   ]
  }
 ],
 "metadata": {
  "kernelspec": {
   "display_name": "Python 2",
   "language": "python",
   "name": "python2"
  },
  "language_info": {
   "codemirror_mode": {
    "name": "ipython",
    "version": 2
   },
   "file_extension": ".py",
   "mimetype": "text/x-python",
   "name": "python",
   "nbconvert_exporter": "python",
   "pygments_lexer": "ipython2",
   "version": "2.7.11"
  }
 },
 "nbformat": 4,
 "nbformat_minor": 0
}
